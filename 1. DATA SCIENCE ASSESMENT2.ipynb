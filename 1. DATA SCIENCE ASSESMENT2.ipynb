{
 "cells": [
  {
   "cell_type": "markdown",
   "id": "9d2570f2-88d3-4929-b15f-88df7f2e7ceb",
   "metadata": {
    "tags": []
   },
   "source": [
    "# **Bats VS Rats Analysis**"
   ]
  },
  {
   "cell_type": "code",
   "execution_count": 253,
   "id": "4a5afb34-d6c2-47b8-ac57-5bb4e5935145",
   "metadata": {
    "tags": []
   },
   "outputs": [],
   "source": [
    "import pandas as pd\n",
    "import numpy as np\n",
    "import seaborn as sns\n",
    "import matplotlib.pyplot as plt\n",
    "from datetime import datetime\n",
    "from scipy import stats\n",
    "from scipy.stats import binomtest\n",
    "from scipy.stats import pearsonr\n",
    "from math import sqrt\n",
    "from scipy.stats import norm"
   ]
  },
  {
   "cell_type": "code",
   "execution_count": 254,
   "id": "7d0c0ca9-bb77-4c94-bed7-674f1813b020",
   "metadata": {
    "tags": []
   },
   "outputs": [],
   "source": [
    "df1 = pd.read_csv(\"dataset1.csv\")\n",
    "df2 = pd.read_csv(\"dataset2.csv\")"
   ]
  },
  {
   "cell_type": "markdown",
   "id": "aaa091fa-35fb-49bf-9217-0b0850198ee1",
   "metadata": {
    "tags": []
   },
   "source": [
    "## General Analysis of Datasets"
   ]
  },
  {
   "cell_type": "markdown",
   "id": "49c25fbb-131f-4a6c-8ddc-3a4407816271",
   "metadata": {},
   "source": [
    "General analysis to see the magnitude of the data.\n",
    "From this perspective, it is not valuable to perform a join because the number of bat landings in dataset1 is minimal compared to the actual amount of bat landings. Since the videos last 30 minutes and include multiple landings within this period, we cannot reliably associate the information from a recording with a specific landing."
   ]
  },
  {
   "cell_type": "code",
   "execution_count": 255,
   "id": "b8ec0c8e-82a1-4aab-91d4-3f5303602897",
   "metadata": {
    "tags": []
   },
   "outputs": [
    {
     "name": "stdout",
     "output_type": "stream",
     "text": [
      "Total number of landings: 68113,\n",
      "but dataset2 has 2123 rows and dataset1 has 907 rows.\n",
      "This means that: \n",
      "1. Not all the landings are recorded\n",
      "2. We have more videos recordings that bat landings.\n"
     ]
    }
   ],
   "source": [
    "Lenght_df2 = df2.shape[0]\n",
    "Lenght_df1 = df1.shape[0]\n",
    "total_landing = df2[\"bat_landing_number\"].sum()\n",
    "print(f\"Total number of landings: {total_landing},\\nbut dataset2 has {Lenght_df2} rows and dataset1 has {Lenght_df1} rows.\")\n",
    "print(f\"This means that: \\n1. Not all the landings are recorded\\n2. We have more videos recordings that bat landings.\")"
   ]
  },
  {
   "cell_type": "code",
   "execution_count": 256,
   "id": "8f03e81a-d35f-4b1a-8c70-bb0194b44407",
   "metadata": {
    "tags": []
   },
   "outputs": [
    {
     "data": {
      "application/vnd.microsoft.datawrangler.viewer.v0+json": {
       "columns": [
        {
         "name": "index",
         "rawType": "int64",
         "type": "integer"
        },
        {
         "name": "start_time",
         "rawType": "object",
         "type": "string"
        },
        {
         "name": "bat_landing_to_food",
         "rawType": "float64",
         "type": "float"
        },
        {
         "name": "habit",
         "rawType": "object",
         "type": "string"
        },
        {
         "name": "rat_period_start",
         "rawType": "object",
         "type": "string"
        },
        {
         "name": "rat_period_end",
         "rawType": "object",
         "type": "string"
        },
        {
         "name": "seconds_after_rat_arrival",
         "rawType": "int64",
         "type": "integer"
        },
        {
         "name": "risk",
         "rawType": "int64",
         "type": "integer"
        },
        {
         "name": "reward",
         "rawType": "int64",
         "type": "integer"
        },
        {
         "name": "month",
         "rawType": "int64",
         "type": "integer"
        },
        {
         "name": "sunset_time",
         "rawType": "object",
         "type": "string"
        },
        {
         "name": "hours_after_sunset",
         "rawType": "float64",
         "type": "float"
        },
        {
         "name": "season",
         "rawType": "int64",
         "type": "integer"
        }
       ],
       "ref": "1e4a9133-5225-41fc-9374-fe8996903e25",
       "rows": [
        [
         "0",
         "30/12/2017 18:37",
         "16.0",
         "rat",
         "30/12/2017 18:35",
         "30/12/2017 18:38",
         "108",
         "1",
         "0",
         "0",
         "30/12/2017 16:45",
         "1.870833333",
         "0"
        ],
        [
         "1",
         "30/12/2017 19:51",
         "0.074015603",
         "fast",
         "30/12/2017 19:50",
         "30/12/2017 19:55",
         "17",
         "0",
         "1",
         "0",
         "30/12/2017 16:45",
         "3.100833333",
         "0"
        ],
        [
         "2",
         "30/12/2017 19:51",
         "4.0",
         "fast",
         "30/12/2017 19:50",
         "30/12/2017 19:55",
         "41",
         "0",
         "1",
         "0",
         "30/12/2017 16:45",
         "3.1075",
         "0"
        ],
        [
         "3",
         "30/12/2017 19:52",
         "10.0",
         "rat",
         "30/12/2017 19:50",
         "30/12/2017 19:55",
         "111",
         "1",
         "0",
         "0",
         "30/12/2017 16:45",
         "3.126944444",
         "0"
        ],
        [
         "4",
         "30/12/2017 19:54",
         "15.0",
         "rat",
         "30/12/2017 19:50",
         "30/12/2017 19:55",
         "194",
         "1",
         "0",
         "0",
         "30/12/2017 16:45",
         "3.15",
         "0"
        ]
       ],
       "shape": {
        "columns": 12,
        "rows": 5
       }
      },
      "text/html": [
       "<div>\n",
       "<style scoped>\n",
       "    .dataframe tbody tr th:only-of-type {\n",
       "        vertical-align: middle;\n",
       "    }\n",
       "\n",
       "    .dataframe tbody tr th {\n",
       "        vertical-align: top;\n",
       "    }\n",
       "\n",
       "    .dataframe thead th {\n",
       "        text-align: right;\n",
       "    }\n",
       "</style>\n",
       "<table border=\"1\" class=\"dataframe\">\n",
       "  <thead>\n",
       "    <tr style=\"text-align: right;\">\n",
       "      <th></th>\n",
       "      <th>start_time</th>\n",
       "      <th>bat_landing_to_food</th>\n",
       "      <th>habit</th>\n",
       "      <th>rat_period_start</th>\n",
       "      <th>rat_period_end</th>\n",
       "      <th>seconds_after_rat_arrival</th>\n",
       "      <th>risk</th>\n",
       "      <th>reward</th>\n",
       "      <th>month</th>\n",
       "      <th>sunset_time</th>\n",
       "      <th>hours_after_sunset</th>\n",
       "      <th>season</th>\n",
       "    </tr>\n",
       "  </thead>\n",
       "  <tbody>\n",
       "    <tr>\n",
       "      <th>0</th>\n",
       "      <td>30/12/2017 18:37</td>\n",
       "      <td>16.000000</td>\n",
       "      <td>rat</td>\n",
       "      <td>30/12/2017 18:35</td>\n",
       "      <td>30/12/2017 18:38</td>\n",
       "      <td>108</td>\n",
       "      <td>1</td>\n",
       "      <td>0</td>\n",
       "      <td>0</td>\n",
       "      <td>30/12/2017 16:45</td>\n",
       "      <td>1.870833</td>\n",
       "      <td>0</td>\n",
       "    </tr>\n",
       "    <tr>\n",
       "      <th>1</th>\n",
       "      <td>30/12/2017 19:51</td>\n",
       "      <td>0.074016</td>\n",
       "      <td>fast</td>\n",
       "      <td>30/12/2017 19:50</td>\n",
       "      <td>30/12/2017 19:55</td>\n",
       "      <td>17</td>\n",
       "      <td>0</td>\n",
       "      <td>1</td>\n",
       "      <td>0</td>\n",
       "      <td>30/12/2017 16:45</td>\n",
       "      <td>3.100833</td>\n",
       "      <td>0</td>\n",
       "    </tr>\n",
       "    <tr>\n",
       "      <th>2</th>\n",
       "      <td>30/12/2017 19:51</td>\n",
       "      <td>4.000000</td>\n",
       "      <td>fast</td>\n",
       "      <td>30/12/2017 19:50</td>\n",
       "      <td>30/12/2017 19:55</td>\n",
       "      <td>41</td>\n",
       "      <td>0</td>\n",
       "      <td>1</td>\n",
       "      <td>0</td>\n",
       "      <td>30/12/2017 16:45</td>\n",
       "      <td>3.107500</td>\n",
       "      <td>0</td>\n",
       "    </tr>\n",
       "    <tr>\n",
       "      <th>3</th>\n",
       "      <td>30/12/2017 19:52</td>\n",
       "      <td>10.000000</td>\n",
       "      <td>rat</td>\n",
       "      <td>30/12/2017 19:50</td>\n",
       "      <td>30/12/2017 19:55</td>\n",
       "      <td>111</td>\n",
       "      <td>1</td>\n",
       "      <td>0</td>\n",
       "      <td>0</td>\n",
       "      <td>30/12/2017 16:45</td>\n",
       "      <td>3.126944</td>\n",
       "      <td>0</td>\n",
       "    </tr>\n",
       "    <tr>\n",
       "      <th>4</th>\n",
       "      <td>30/12/2017 19:54</td>\n",
       "      <td>15.000000</td>\n",
       "      <td>rat</td>\n",
       "      <td>30/12/2017 19:50</td>\n",
       "      <td>30/12/2017 19:55</td>\n",
       "      <td>194</td>\n",
       "      <td>1</td>\n",
       "      <td>0</td>\n",
       "      <td>0</td>\n",
       "      <td>30/12/2017 16:45</td>\n",
       "      <td>3.150000</td>\n",
       "      <td>0</td>\n",
       "    </tr>\n",
       "  </tbody>\n",
       "</table>\n",
       "</div>"
      ],
      "text/plain": [
       "         start_time  bat_landing_to_food habit  rat_period_start  \\\n",
       "0  30/12/2017 18:37            16.000000   rat  30/12/2017 18:35   \n",
       "1  30/12/2017 19:51             0.074016  fast  30/12/2017 19:50   \n",
       "2  30/12/2017 19:51             4.000000  fast  30/12/2017 19:50   \n",
       "3  30/12/2017 19:52            10.000000   rat  30/12/2017 19:50   \n",
       "4  30/12/2017 19:54            15.000000   rat  30/12/2017 19:50   \n",
       "\n",
       "     rat_period_end  seconds_after_rat_arrival  risk  reward  month  \\\n",
       "0  30/12/2017 18:38                        108     1       0      0   \n",
       "1  30/12/2017 19:55                         17     0       1      0   \n",
       "2  30/12/2017 19:55                         41     0       1      0   \n",
       "3  30/12/2017 19:55                        111     1       0      0   \n",
       "4  30/12/2017 19:55                        194     1       0      0   \n",
       "\n",
       "        sunset_time  hours_after_sunset  season  \n",
       "0  30/12/2017 16:45            1.870833       0  \n",
       "1  30/12/2017 16:45            3.100833       0  \n",
       "2  30/12/2017 16:45            3.107500       0  \n",
       "3  30/12/2017 16:45            3.126944       0  \n",
       "4  30/12/2017 16:45            3.150000       0  "
      ]
     },
     "execution_count": 256,
     "metadata": {},
     "output_type": "execute_result"
    }
   ],
   "source": [
    "df1.head()"
   ]
  },
  {
   "cell_type": "markdown",
   "id": "64b63419-fcc4-46db-8085-110da5b9bc31",
   "metadata": {},
   "source": [
    "### Data Wrangling\n",
    "\n",
    "In this part, we analyze which variables we should use and in which format.\n",
    "Our first approach was to identify the scenarios where landings occurred during the presence of rats and to analyze whether the bats’ actions changed when rats were present. For this reason, we created several time-related columns to help determine whether a rat was present at the moment of a landing.\n",
    "\n",
    "Our original idea was to define a proxy for fear in the bats’ behavior and to analyze whether the probability of this behavior changed in the presence of rats.\n",
    "\n",
    "Here we created several columns, not all of which were ultimately used in the final analysis, but they helped us check whether our initial theories were feasible or not. Specifically, we created:\n",
    "\n",
    "RAT_PRESENCE: We thought that the behavior of bats might change in the presence of rats, so we created this column to identify whether a rat was present at the time of a bat’s landing.\n",
    "\n",
    "RAT_DURATION_SEC: This variable indicates how long a rat stayed on the platform. We assumed that the length of the rat’s stay could affect the bats’ behavior.\n",
    "\n",
    "BAT_LANDING_AFTER_SUNSET_SEC: We thought that the time of day could influence bat behavior, assuming that at night bats might be less fearful than during the day.\n",
    "\n",
    "BAT_EAT_WITH_RAT: This variable indicates whether the bat ate in the presence of rats or waited until the rats left. This was the variable we ultimately used, since in later analyses we discovered that the others were not feasible with the available data. "
   ]
  },
  {
   "cell_type": "code",
   "execution_count": 257,
   "id": "0af23fd1-ddf3-49c6-899a-e09f6cf1afaf",
   "metadata": {
    "tags": []
   },
   "outputs": [
    {
     "data": {
      "application/vnd.microsoft.datawrangler.viewer.v0+json": {
       "columns": [
        {
         "name": "index",
         "rawType": "int64",
         "type": "integer"
        },
        {
         "name": "DATE",
         "rawType": "object",
         "type": "string"
        },
        {
         "name": "BAT_EAT_WITH_RAT",
         "rawType": "int32",
         "type": "integer"
        },
        {
         "name": "HABIT",
         "rawType": "object",
         "type": "string"
        },
        {
         "name": "RISK",
         "rawType": "int64",
         "type": "integer"
        },
        {
         "name": "RAT_PRESENCE",
         "rawType": "int32",
         "type": "integer"
        },
        {
         "name": "REWARD",
         "rawType": "int64",
         "type": "integer"
        },
        {
         "name": "BAT_LANDING_TIME",
         "rawType": "object",
         "type": "string"
        },
        {
         "name": "RAT_ARRIVING_TIME",
         "rawType": "object",
         "type": "string"
        },
        {
         "name": "RAT_LEAVING_TIME",
         "rawType": "object",
         "type": "string"
        },
        {
         "name": "SUNSET_TIME",
         "rawType": "object",
         "type": "string"
        },
        {
         "name": "BAT_LANDING_AFTER_RAT_SEC",
         "rawType": "int64",
         "type": "integer"
        },
        {
         "name": "BAT_LANDING_TO_FOOD_SEC",
         "rawType": "float64",
         "type": "float"
        },
        {
         "name": "RAT_DURATION_SEC",
         "rawType": "int32",
         "type": "integer"
        },
        {
         "name": "BAT_LANDING_AFTER_SUNSET_SEC",
         "rawType": "int32",
         "type": "integer"
        },
        {
         "name": "MONTH",
         "rawType": "int64",
         "type": "integer"
        },
        {
         "name": "SEASON",
         "rawType": "int64",
         "type": "integer"
        }
       ],
       "ref": "e20a2966-7c0f-41ed-b5c4-0c0d92b2c2f0",
       "rows": [
        [
         "0",
         "30/12/2017",
         "1",
         "rat",
         "1",
         "1",
         "0",
         "18:37",
         "18:35",
         "18:38",
         "16:45",
         "108",
         "16.0",
         "180",
         "6734",
         "0",
         "0"
        ],
        [
         "1",
         "30/12/2017",
         "1",
         "fast",
         "0",
         "1",
         "1",
         "19:51",
         "19:50",
         "19:55",
         "16:45",
         "17",
         "0.074015603",
         "300",
         "11162",
         "0",
         "0"
        ],
        [
         "2",
         "30/12/2017",
         "1",
         "fast",
         "0",
         "1",
         "1",
         "19:51",
         "19:50",
         "19:55",
         "16:45",
         "41",
         "4.0",
         "300",
         "11187",
         "0",
         "0"
        ],
        [
         "3",
         "30/12/2017",
         "1",
         "rat",
         "1",
         "1",
         "0",
         "19:52",
         "19:50",
         "19:55",
         "16:45",
         "111",
         "10.0",
         "300",
         "11256",
         "0",
         "0"
        ],
        [
         "4",
         "30/12/2017",
         "1",
         "rat",
         "1",
         "1",
         "0",
         "19:54",
         "19:50",
         "19:55",
         "16:45",
         "194",
         "15.0",
         "300",
         "11340",
         "0",
         "0"
        ],
        [
         "5",
         "30/12/2017",
         "1",
         "rat",
         "1",
         "1",
         "0",
         "19:54",
         "19:50",
         "19:55",
         "16:45",
         "215",
         "24.0",
         "300",
         "11360",
         "0",
         "0"
        ],
        [
         "6",
         "30/12/2017",
         "1",
         "rat",
         "1",
         "1",
         "0",
         "19:54",
         "19:50",
         "19:55",
         "16:45",
         "253",
         "13.0",
         "300",
         "11399",
         "0",
         "0"
        ],
        [
         "7",
         "26/12/2017",
         "1",
         "rat",
         "1",
         "1",
         "0",
         "21:24",
         "21:22",
         "21:27",
         "16:43",
         "88",
         "15.0",
         "300",
         "16863",
         "0",
         "0"
        ],
        [
         "8",
         "26/12/2017",
         "1",
         "pick",
         "0",
         "1",
         "1",
         "21:24",
         "21:22",
         "21:27",
         "16:43",
         "113",
         "6.0",
         "300",
         "16889",
         "0",
         "0"
        ],
        [
         "9",
         "26/12/2017",
         "1",
         "fast",
         "0",
         "1",
         "1",
         "21:24",
         "21:22",
         "21:27",
         "16:43",
         "121",
         "3.0",
         "300",
         "16896",
         "0",
         "0"
        ],
        [
         "10",
         "26/12/2017",
         "1",
         "pick",
         "0",
         "1",
         "1",
         "21:24",
         "21:22",
         "21:27",
         "16:43",
         "128",
         "5.0",
         "300",
         "16904",
         "0",
         "0"
        ],
        [
         "11",
         "26/12/2017",
         "1",
         "pick",
         "0",
         "1",
         "1",
         "21:25",
         "21:22",
         "21:27",
         "16:43",
         "153",
         "6.0",
         "300",
         "16929",
         "0",
         "0"
        ],
        [
         "12",
         "26/12/2017",
         "1",
         "rat",
         "1",
         "1",
         "0",
         "21:26",
         "21:22",
         "21:27",
         "16:43",
         "208",
         "10.0",
         "300",
         "16984",
         "0",
         "0"
        ],
        [
         "13",
         "26/12/2017",
         "1",
         "bat_fight",
         "1",
         "1",
         "0",
         "21:26",
         "21:22",
         "21:27",
         "16:43",
         "216",
         "1.0",
         "300",
         "16992",
         "0",
         "0"
        ],
        [
         "14",
         "27/12/2017",
         "1",
         "rat_and_no_food",
         "1",
         "1",
         "0",
         "01:35",
         "01:34",
         "01:41",
         "16:43",
         "37",
         "2.0",
         "420",
         "31941",
         "0",
         "0"
        ],
        [
         "15",
         "26/12/2017",
         "1",
         null,
         "0",
         "1",
         "0",
         "20:57",
         "20:53",
         "20:58",
         "16:43",
         "199",
         "5.0",
         "300",
         "15255",
         "0",
         "0"
        ],
        [
         "16",
         "26/12/2017",
         "1",
         null,
         "0",
         "1",
         "0",
         "20:57",
         "20:53",
         "20:58",
         "16:43",
         "239",
         "1.0",
         "300",
         "15294",
         "0",
         "0"
        ],
        [
         "17",
         "28/12/2017",
         "1",
         "fast",
         "0",
         "1",
         "1",
         "19:36",
         "19:35",
         "19:46",
         "16:44",
         "14",
         "1.0",
         "660",
         "10328",
         "0",
         "0"
        ],
        [
         "18",
         "28/12/2017",
         "1",
         "rat",
         "1",
         "1",
         "0",
         "19:36",
         "19:35",
         "19:46",
         "16:44",
         "40",
         "2.0",
         "660",
         "10353",
         "0",
         "0"
        ],
        [
         "19",
         "28/12/2017",
         "1",
         "rat",
         "1",
         "1",
         "0",
         "19:37",
         "19:35",
         "19:46",
         "16:44",
         "68",
         "26.0",
         "660",
         "10382",
         "0",
         "0"
        ],
        [
         "20",
         "28/12/2017",
         "1",
         "rat_and_others",
         "1",
         "1",
         "0",
         "19:44",
         "19:35",
         "19:46",
         "16:44",
         "521",
         "5.0",
         "660",
         "10834",
         "0",
         "0"
        ],
        [
         "21",
         "28/12/2017",
         "1",
         "pick_and_others",
         "1",
         "1",
         "1",
         "19:45",
         "19:35",
         "19:46",
         "16:44",
         "564",
         "15.0",
         "660",
         "10878",
         "0",
         "0"
        ],
        [
         "22",
         "28/12/2017",
         "0",
         "rat",
         "1",
         "1",
         "0",
         "19:46",
         "19:35",
         "19:46",
         "16:44",
         "607",
         "24.0",
         "660",
         "10920",
         "0",
         "0"
        ],
        [
         "23",
         "28/12/2017",
         "1",
         "fast",
         "0",
         "1",
         "1",
         "03:58",
         "03:56",
         "04:13",
         "16:43",
         "107",
         "2.0",
         "1020",
         "40546",
         "0",
         "0"
        ],
        [
         "24",
         "28/12/2017",
         "1",
         "fast",
         "0",
         "1",
         "1",
         "04:02",
         "03:56",
         "04:13",
         "16:43",
         "358",
         "2.0",
         "1020",
         "40797",
         "0",
         "0"
        ],
        [
         "25",
         "28/12/2017",
         "1",
         null,
         "0",
         "1",
         "0",
         "04:11",
         "03:56",
         "04:13",
         "16:43",
         "852",
         "1.0",
         "1020",
         "41290",
         "0",
         "0"
        ],
        [
         "26",
         "27/01/2018",
         "1",
         "fast",
         "0",
         "1",
         "1",
         "23:44",
         "23:44",
         "23:50",
         "17:09",
         "12",
         "0.049410419",
         "360",
         "23727",
         "1",
         "0"
        ],
        [
         "27",
         "27/01/2018",
         "1",
         "fast",
         "0",
         "1",
         "1",
         "23:44",
         "23:44",
         "23:50",
         "17:09",
         "14",
         "1.0",
         "360",
         "23730",
         "1",
         "0"
        ],
        [
         "28",
         "27/01/2018",
         "1",
         "rat",
         "1",
         "1",
         "0",
         "23:45",
         "23:44",
         "23:50",
         "17:09",
         "49",
         "6.0",
         "360",
         "23765",
         "1",
         "0"
        ],
        [
         "29",
         "27/01/2018",
         "1",
         "fast",
         "0",
         "1",
         "1",
         "23:45",
         "23:44",
         "23:50",
         "17:09",
         "68",
         "3.0",
         "360",
         "23784",
         "1",
         "0"
        ],
        [
         "30",
         "27/01/2018",
         "1",
         "rat",
         "1",
         "1",
         "0",
         "23:45",
         "23:44",
         "23:50",
         "17:09",
         "84",
         "8.0",
         "360",
         "23799",
         "1",
         "0"
        ],
        [
         "31",
         "27/01/2018",
         "1",
         "rat",
         "1",
         "1",
         "0",
         "23:46",
         "23:44",
         "23:50",
         "17:09",
         "122",
         "31.0",
         "360",
         "23838",
         "1",
         "0"
        ],
        [
         "32",
         "27/01/2018",
         "1",
         "fast",
         "0",
         "1",
         "1",
         "23:47",
         "23:44",
         "23:50",
         "17:09",
         "186",
         "0.010695699",
         "360",
         "23901",
         "1",
         "0"
        ],
        [
         "33",
         "27/01/2018",
         "1",
         "fast",
         "0",
         "1",
         "1",
         "23:48",
         "23:44",
         "23:50",
         "17:09",
         "231",
         "2.0",
         "360",
         "23946",
         "1",
         "0"
        ],
        [
         "34",
         "27/01/2018",
         "1",
         "gaze",
         "0",
         "1",
         "0",
         "23:48",
         "23:44",
         "23:50",
         "17:09",
         "246",
         "1.0",
         "360",
         "23961",
         "1",
         "0"
        ],
        [
         "35",
         "27/01/2018",
         "1",
         "pick",
         "0",
         "1",
         "1",
         "23:48",
         "23:44",
         "23:50",
         "17:09",
         "253",
         "9.0",
         "360",
         "23969",
         "1",
         "0"
        ],
        [
         "36",
         "27/01/2018",
         "0",
         "pick",
         "0",
         "1",
         "1",
         "23:50",
         "23:44",
         "23:50",
         "17:09",
         "355",
         "6.0",
         "360",
         "24071",
         "1",
         "0"
        ],
        [
         "37",
         "28/01/2018",
         "0",
         "pick",
         "0",
         "1",
         "1",
         "04:20",
         "04:08",
         "04:20",
         "17:09",
         "742",
         "11.0",
         "720",
         "40311",
         "1",
         "0"
        ],
        [
         "38",
         "01/01/2018",
         "1",
         "fast",
         "0",
         "1",
         "1",
         "01:52",
         "01:50",
         "01:55",
         "16:46",
         "115",
         "2.0",
         "300",
         "32789",
         "1",
         "0"
        ],
        [
         "39",
         "31/01/2018",
         "1",
         "rat",
         "1",
         "1",
         "0",
         "19:44",
         "19:41",
         "19:45",
         "17:13",
         "195",
         "3.0",
         "240",
         "9082",
         "1",
         "0"
        ],
        [
         "40",
         "31/01/2018",
         "1",
         "fast",
         "0",
         "1",
         "1",
         "22:23",
         "22:20",
         "22:24",
         "17:13",
         "168",
         "1.0",
         "240",
         "18605",
         "1",
         "0"
        ],
        [
         "41",
         "10/01/2018",
         "0",
         null,
         "0",
         "1",
         "0",
         "23:34",
         "23:32",
         "23:34",
         "16:54",
         "113",
         "4.0",
         "120",
         "24026",
         "1",
         "0"
        ],
        [
         "42",
         "10/01/2018",
         "1",
         "rat",
         "1",
         "1",
         "0",
         "04:12",
         "04:07",
         "04:15",
         "16:53",
         "306",
         "1.0",
         "480",
         "40759",
         "1",
         "0"
        ],
        [
         "43",
         "28/01/2018",
         "1",
         "fast",
         "0",
         "1",
         "1",
         "19:56",
         "19:56",
         "20:10",
         "17:10",
         "9",
         "1.0",
         "840",
         "9974",
         "1",
         "0"
        ],
        [
         "44",
         "28/01/2018",
         "1",
         "rat",
         "1",
         "1",
         "0",
         "20:03",
         "19:56",
         "20:10",
         "17:10",
         "456",
         "1.0",
         "840",
         "10422",
         "1",
         "0"
        ],
        [
         "45",
         "28/01/2018",
         "1",
         "rat",
         "1",
         "1",
         "0",
         "20:04",
         "19:56",
         "20:10",
         "17:10",
         "528",
         "0.035319187",
         "840",
         "10494",
         "1",
         "0"
        ],
        [
         "46",
         "28/01/2018",
         "1",
         "rat",
         "1",
         "1",
         "0",
         "20:05",
         "19:56",
         "20:10",
         "17:10",
         "534",
         "1.0",
         "840",
         "10500",
         "1",
         "0"
        ],
        [
         "47",
         "28/01/2018",
         "1",
         "pick_rat",
         "1",
         "1",
         "1",
         "20:05",
         "19:56",
         "20:10",
         "17:10",
         "545",
         "7.0",
         "840",
         "10510",
         "1",
         "0"
        ],
        [
         "48",
         "28/01/2018",
         "1",
         "fast",
         "0",
         "1",
         "1",
         "20:05",
         "19:56",
         "20:10",
         "17:10",
         "551",
         "1.0",
         "840",
         "10517",
         "1",
         "0"
        ],
        [
         "49",
         "28/01/2018",
         "1",
         "fast",
         "0",
         "1",
         "1",
         "20:05",
         "19:56",
         "20:10",
         "17:10",
         "569",
         "0.034803066",
         "840",
         "10535",
         "1",
         "0"
        ]
       ],
       "shape": {
        "columns": 16,
        "rows": 907
       }
      },
      "text/html": [
       "<div>\n",
       "<style scoped>\n",
       "    .dataframe tbody tr th:only-of-type {\n",
       "        vertical-align: middle;\n",
       "    }\n",
       "\n",
       "    .dataframe tbody tr th {\n",
       "        vertical-align: top;\n",
       "    }\n",
       "\n",
       "    .dataframe thead th {\n",
       "        text-align: right;\n",
       "    }\n",
       "</style>\n",
       "<table border=\"1\" class=\"dataframe\">\n",
       "  <thead>\n",
       "    <tr style=\"text-align: right;\">\n",
       "      <th></th>\n",
       "      <th>DATE</th>\n",
       "      <th>BAT_EAT_WITH_RAT</th>\n",
       "      <th>HABIT</th>\n",
       "      <th>RISK</th>\n",
       "      <th>RAT_PRESENCE</th>\n",
       "      <th>REWARD</th>\n",
       "      <th>BAT_LANDING_TIME</th>\n",
       "      <th>RAT_ARRIVING_TIME</th>\n",
       "      <th>RAT_LEAVING_TIME</th>\n",
       "      <th>SUNSET_TIME</th>\n",
       "      <th>BAT_LANDING_AFTER_RAT_SEC</th>\n",
       "      <th>BAT_LANDING_TO_FOOD_SEC</th>\n",
       "      <th>RAT_DURATION_SEC</th>\n",
       "      <th>BAT_LANDING_AFTER_SUNSET_SEC</th>\n",
       "      <th>MONTH</th>\n",
       "      <th>SEASON</th>\n",
       "    </tr>\n",
       "  </thead>\n",
       "  <tbody>\n",
       "    <tr>\n",
       "      <th>0</th>\n",
       "      <td>30/12/2017</td>\n",
       "      <td>1</td>\n",
       "      <td>rat</td>\n",
       "      <td>1</td>\n",
       "      <td>1</td>\n",
       "      <td>0</td>\n",
       "      <td>18:37</td>\n",
       "      <td>18:35</td>\n",
       "      <td>18:38</td>\n",
       "      <td>16:45</td>\n",
       "      <td>108</td>\n",
       "      <td>16.000000</td>\n",
       "      <td>180</td>\n",
       "      <td>6734</td>\n",
       "      <td>0</td>\n",
       "      <td>0</td>\n",
       "    </tr>\n",
       "    <tr>\n",
       "      <th>1</th>\n",
       "      <td>30/12/2017</td>\n",
       "      <td>1</td>\n",
       "      <td>fast</td>\n",
       "      <td>0</td>\n",
       "      <td>1</td>\n",
       "      <td>1</td>\n",
       "      <td>19:51</td>\n",
       "      <td>19:50</td>\n",
       "      <td>19:55</td>\n",
       "      <td>16:45</td>\n",
       "      <td>17</td>\n",
       "      <td>0.074016</td>\n",
       "      <td>300</td>\n",
       "      <td>11162</td>\n",
       "      <td>0</td>\n",
       "      <td>0</td>\n",
       "    </tr>\n",
       "    <tr>\n",
       "      <th>2</th>\n",
       "      <td>30/12/2017</td>\n",
       "      <td>1</td>\n",
       "      <td>fast</td>\n",
       "      <td>0</td>\n",
       "      <td>1</td>\n",
       "      <td>1</td>\n",
       "      <td>19:51</td>\n",
       "      <td>19:50</td>\n",
       "      <td>19:55</td>\n",
       "      <td>16:45</td>\n",
       "      <td>41</td>\n",
       "      <td>4.000000</td>\n",
       "      <td>300</td>\n",
       "      <td>11187</td>\n",
       "      <td>0</td>\n",
       "      <td>0</td>\n",
       "    </tr>\n",
       "    <tr>\n",
       "      <th>3</th>\n",
       "      <td>30/12/2017</td>\n",
       "      <td>1</td>\n",
       "      <td>rat</td>\n",
       "      <td>1</td>\n",
       "      <td>1</td>\n",
       "      <td>0</td>\n",
       "      <td>19:52</td>\n",
       "      <td>19:50</td>\n",
       "      <td>19:55</td>\n",
       "      <td>16:45</td>\n",
       "      <td>111</td>\n",
       "      <td>10.000000</td>\n",
       "      <td>300</td>\n",
       "      <td>11256</td>\n",
       "      <td>0</td>\n",
       "      <td>0</td>\n",
       "    </tr>\n",
       "    <tr>\n",
       "      <th>4</th>\n",
       "      <td>30/12/2017</td>\n",
       "      <td>1</td>\n",
       "      <td>rat</td>\n",
       "      <td>1</td>\n",
       "      <td>1</td>\n",
       "      <td>0</td>\n",
       "      <td>19:54</td>\n",
       "      <td>19:50</td>\n",
       "      <td>19:55</td>\n",
       "      <td>16:45</td>\n",
       "      <td>194</td>\n",
       "      <td>15.000000</td>\n",
       "      <td>300</td>\n",
       "      <td>11340</td>\n",
       "      <td>0</td>\n",
       "      <td>0</td>\n",
       "    </tr>\n",
       "    <tr>\n",
       "      <th>...</th>\n",
       "      <td>...</td>\n",
       "      <td>...</td>\n",
       "      <td>...</td>\n",
       "      <td>...</td>\n",
       "      <td>...</td>\n",
       "      <td>...</td>\n",
       "      <td>...</td>\n",
       "      <td>...</td>\n",
       "      <td>...</td>\n",
       "      <td>...</td>\n",
       "      <td>...</td>\n",
       "      <td>...</td>\n",
       "      <td>...</td>\n",
       "      <td>...</td>\n",
       "      <td>...</td>\n",
       "      <td>...</td>\n",
       "    </tr>\n",
       "    <tr>\n",
       "      <th>902</th>\n",
       "      <td>04/05/2018</td>\n",
       "      <td>1</td>\n",
       "      <td>rat</td>\n",
       "      <td>1</td>\n",
       "      <td>1</td>\n",
       "      <td>0</td>\n",
       "      <td>04:18</td>\n",
       "      <td>04:14</td>\n",
       "      <td>04:30</td>\n",
       "      <td>19:22</td>\n",
       "      <td>224</td>\n",
       "      <td>2.000000</td>\n",
       "      <td>960</td>\n",
       "      <td>32159</td>\n",
       "      <td>5</td>\n",
       "      <td>1</td>\n",
       "    </tr>\n",
       "    <tr>\n",
       "      <th>903</th>\n",
       "      <td>04/05/2018</td>\n",
       "      <td>1</td>\n",
       "      <td>fast</td>\n",
       "      <td>0</td>\n",
       "      <td>1</td>\n",
       "      <td>1</td>\n",
       "      <td>04:18</td>\n",
       "      <td>04:14</td>\n",
       "      <td>04:30</td>\n",
       "      <td>19:22</td>\n",
       "      <td>275</td>\n",
       "      <td>1.000000</td>\n",
       "      <td>960</td>\n",
       "      <td>32211</td>\n",
       "      <td>5</td>\n",
       "      <td>1</td>\n",
       "    </tr>\n",
       "    <tr>\n",
       "      <th>904</th>\n",
       "      <td>04/05/2018</td>\n",
       "      <td>1</td>\n",
       "      <td>pick</td>\n",
       "      <td>0</td>\n",
       "      <td>1</td>\n",
       "      <td>1</td>\n",
       "      <td>04:19</td>\n",
       "      <td>04:14</td>\n",
       "      <td>04:30</td>\n",
       "      <td>19:22</td>\n",
       "      <td>310</td>\n",
       "      <td>22.000000</td>\n",
       "      <td>960</td>\n",
       "      <td>32245</td>\n",
       "      <td>5</td>\n",
       "      <td>1</td>\n",
       "    </tr>\n",
       "    <tr>\n",
       "      <th>905</th>\n",
       "      <td>03/05/2018</td>\n",
       "      <td>1</td>\n",
       "      <td>fast</td>\n",
       "      <td>0</td>\n",
       "      <td>1</td>\n",
       "      <td>1</td>\n",
       "      <td>23:51</td>\n",
       "      <td>23:46</td>\n",
       "      <td>23:52</td>\n",
       "      <td>19:22</td>\n",
       "      <td>339</td>\n",
       "      <td>2.000000</td>\n",
       "      <td>360</td>\n",
       "      <td>16196</td>\n",
       "      <td>5</td>\n",
       "      <td>1</td>\n",
       "    </tr>\n",
       "    <tr>\n",
       "      <th>906</th>\n",
       "      <td>04/05/2018</td>\n",
       "      <td>1</td>\n",
       "      <td>pick_rat</td>\n",
       "      <td>1</td>\n",
       "      <td>1</td>\n",
       "      <td>1</td>\n",
       "      <td>05:39</td>\n",
       "      <td>05:37</td>\n",
       "      <td>06:10</td>\n",
       "      <td>19:22</td>\n",
       "      <td>143</td>\n",
       "      <td>120.000000</td>\n",
       "      <td>1980</td>\n",
       "      <td>37071</td>\n",
       "      <td>5</td>\n",
       "      <td>1</td>\n",
       "    </tr>\n",
       "  </tbody>\n",
       "</table>\n",
       "<p>907 rows × 16 columns</p>\n",
       "</div>"
      ],
      "text/plain": [
       "           DATE  BAT_EAT_WITH_RAT     HABIT  RISK  RAT_PRESENCE  REWARD  \\\n",
       "0    30/12/2017                 1       rat     1             1       0   \n",
       "1    30/12/2017                 1      fast     0             1       1   \n",
       "2    30/12/2017                 1      fast     0             1       1   \n",
       "3    30/12/2017                 1       rat     1             1       0   \n",
       "4    30/12/2017                 1       rat     1             1       0   \n",
       "..          ...               ...       ...   ...           ...     ...   \n",
       "902  04/05/2018                 1       rat     1             1       0   \n",
       "903  04/05/2018                 1      fast     0             1       1   \n",
       "904  04/05/2018                 1      pick     0             1       1   \n",
       "905  03/05/2018                 1      fast     0             1       1   \n",
       "906  04/05/2018                 1  pick_rat     1             1       1   \n",
       "\n",
       "    BAT_LANDING_TIME RAT_ARRIVING_TIME RAT_LEAVING_TIME SUNSET_TIME  \\\n",
       "0              18:37             18:35            18:38       16:45   \n",
       "1              19:51             19:50            19:55       16:45   \n",
       "2              19:51             19:50            19:55       16:45   \n",
       "3              19:52             19:50            19:55       16:45   \n",
       "4              19:54             19:50            19:55       16:45   \n",
       "..               ...               ...              ...         ...   \n",
       "902            04:18             04:14            04:30       19:22   \n",
       "903            04:18             04:14            04:30       19:22   \n",
       "904            04:19             04:14            04:30       19:22   \n",
       "905            23:51             23:46            23:52       19:22   \n",
       "906            05:39             05:37            06:10       19:22   \n",
       "\n",
       "     BAT_LANDING_AFTER_RAT_SEC  BAT_LANDING_TO_FOOD_SEC  RAT_DURATION_SEC  \\\n",
       "0                          108                16.000000               180   \n",
       "1                           17                 0.074016               300   \n",
       "2                           41                 4.000000               300   \n",
       "3                          111                10.000000               300   \n",
       "4                          194                15.000000               300   \n",
       "..                         ...                      ...               ...   \n",
       "902                        224                 2.000000               960   \n",
       "903                        275                 1.000000               960   \n",
       "904                        310                22.000000               960   \n",
       "905                        339                 2.000000               360   \n",
       "906                        143               120.000000              1980   \n",
       "\n",
       "     BAT_LANDING_AFTER_SUNSET_SEC  MONTH  SEASON  \n",
       "0                            6734      0       0  \n",
       "1                           11162      0       0  \n",
       "2                           11187      0       0  \n",
       "3                           11256      0       0  \n",
       "4                           11340      0       0  \n",
       "..                            ...    ...     ...  \n",
       "902                         32159      5       1  \n",
       "903                         32211      5       1  \n",
       "904                         32245      5       1  \n",
       "905                         16196      5       1  \n",
       "906                         37071      5       1  \n",
       "\n",
       "[907 rows x 16 columns]"
      ]
     },
     "execution_count": 257,
     "metadata": {},
     "output_type": "execute_result"
    }
   ],
   "source": [
    "# DATETIME FORMAT\n",
    "df1['start_time'] = pd.to_datetime(df1['start_time'], format='%d/%m/%Y %H:%M')\n",
    "df1['rat_period_start'] = pd.to_datetime(df1['rat_period_start'], format='%d/%m/%Y %H:%M')\n",
    "df1['rat_period_end'] = pd.to_datetime(df1['rat_period_end'], format='%d/%m/%Y %H:%M')\n",
    "df1['sunset_time'] = pd.to_datetime(df1['sunset_time'], format='%d/%m/%Y %H:%M')\n",
    "\n",
    "# Did the Bat eat with the rats or just wait?\n",
    "df1['BAT_EATING_TIME'] = df1['start_time'] + pd.to_timedelta(df1['bat_landing_to_food'], unit='s')\n",
    "df1['BAT_EAT_WITH_RAT_SEC'] = (df1['BAT_EATING_TIME'] - df1['rat_period_end']).dt.total_seconds()\n",
    "df1['BAT_EAT_WITH_RAT'] = np.where(df1['BAT_EAT_WITH_RAT_SEC'] < 0, 1, 0)\n",
    "\n",
    "# EXTRACT DATES OF ACTIONS\n",
    "df1['RAT_ARRIVING_DATE'] = df1['rat_period_start'].dt.strftime('%d/%m/%Y')\n",
    "df1['RAT_LEAVING_DATE'] = df1['rat_period_end'].dt.strftime('%d/%m/%Y')\n",
    "df1['SUNSET_DATE'] = df1['sunset_time'].dt.strftime('%d/%m/%Y')\n",
    "df1['DATE'] = df1['start_time'].dt.strftime('%d/%m/%Y')\n",
    "\n",
    "\n",
    "# EXTRACT TIME OF ACTIONS\n",
    "df1['BAT_LANDING_TIME'] = df1['start_time'].dt.strftime('%H:%M')\n",
    "df1['RAT_ARRIVING_TIME'] = df1['rat_period_start'].dt.strftime('%H:%M')\n",
    "df1['RAT_LEAVING_TIME'] = df1['rat_period_end'].dt.strftime('%H:%M')\n",
    "df1['SUNSET_TIME'] = df1['sunset_time'].dt.strftime('%H:%M')\n",
    "\n",
    "# DURATION OF ACTIONS\n",
    "df1['RAT_DURATION_SEC'] = ((pd.to_timedelta(df1['RAT_LEAVING_TIME']+ ':00') - pd.to_timedelta(df1['RAT_ARRIVING_TIME']+ ':00')).dt.total_seconds()).astype(int)\n",
    "df1['hours_after_sunset'] = (df1['hours_after_sunset']*3600).astype(int)\n",
    "\n",
    "# RAT PRESENCE BEFORE BAT LANDING\n",
    "df1['RAT_PRESENCE'] = ((pd.to_timedelta(df1['BAT_LANDING_TIME']+ ':00') - pd.to_timedelta(df1['RAT_ARRIVING_TIME']+ ':00')).dt.total_seconds()).astype(int)\n",
    "df1['RAT_PRESENCE'] = np.where(df1['RAT_PRESENCE'] < 0, 0, 1)\n",
    "# CHANGE NAME OF COLUMNS\n",
    "df1.rename(columns={\n",
    "    'bat_landing_to_food' : 'BAT_LANDING_TO_FOOD_SEC',\n",
    "    'seconds_after_rat_arrival': 'BAT_LANDING_AFTER_RAT_SEC',\n",
    "    'risk' : 'RISK',\n",
    "    'reward' : 'REWARD',\n",
    "    'month' : 'MONTH',\n",
    "    'season' : 'SEASON',\n",
    "    'hours_after_sunset' : 'BAT_LANDING_AFTER_SUNSET_SEC',\n",
    "    'habit':'HABIT'\n",
    "}, inplace=True)\n",
    "\n",
    "# REORGANIZE AND DROP INNECESARY COLUMNS\n",
    "df1 = df1[['DATE','BAT_EAT_WITH_RAT','HABIT','RISK','RAT_PRESENCE','REWARD','BAT_LANDING_TIME','RAT_ARRIVING_TIME','RAT_LEAVING_TIME','SUNSET_TIME', 'BAT_LANDING_AFTER_RAT_SEC','BAT_LANDING_TO_FOOD_SEC','RAT_DURATION_SEC','BAT_LANDING_AFTER_SUNSET_SEC','MONTH', 'SEASON']]\n",
    "df1"
   ]
  },
  {
   "cell_type": "markdown",
   "id": "05ac1930",
   "metadata": {},
   "source": [
    "### First Analysis approach\n",
    "Our initial idea was to determine whether the behavior of bats differed in the presence of rats. When we analyzed the data to check for both possible scenarios (with rats and without rats), we discovered that only one scenario exists: rats are always present before bat landings. This means we cannot evaluate the scenario both with and without rats, which would have been the ideal situation to compare differences between two samples. The code for this initial approach is shown below."
   ]
  },
  {
   "cell_type": "code",
   "execution_count": 258,
   "id": "2b4c092a",
   "metadata": {},
   "outputs": [
    {
     "data": {
      "image/png": "[encoded data removed]",
      "text/plain": [
       "<Figure size 800x500 with 1 Axes>"
      ]
     },
     "metadata": {},
     "output_type": "display_data"
    }
   ],
   "source": [
    "# PLOT HISTOGRAM OF RAT'S TIME BEFORE BAT LANDING\n",
    "plt.figure(figsize=(8,5))\n",
    "plt.hist(df1['BAT_LANDING_AFTER_RAT_SEC'], bins=30, color='purple', alpha=0.7, edgecolor='black')\n",
    "plt.xlabel('Time Rat before Bat (seconds)')\n",
    "plt.ylabel('# Bat Landings')\n",
    "plt.title('Histogram of Bats Landings vs Rat Arrival Time')\n",
    "plt.show()"
   ]
  },
  {
   "cell_type": "code",
   "execution_count": 259,
   "id": "381befdc",
   "metadata": {},
   "outputs": [
    {
     "data": {
      "image/png": "[encoded data removed]",
      "text/plain": [
       "<Figure size 800x500 with 1 Axes>"
      ]
     },
     "metadata": {},
     "output_type": "display_data"
    }
   ],
   "source": [
    "# PLOT HISTOGRAM OF RAT PRESENCE\n",
    "plt.figure(figsize=(8,5))\n",
    "plt.hist(df1['RAT_PRESENCE'], bins=30, color='purple', alpha=0.7, edgecolor='black')\n",
    "plt.xlabel('Rat presence')\n",
    "plt.ylabel('# cases')\n",
    "plt.title('Are the rats present when the bat arrives?')\n",
    "plt.show()"
   ]
  },
  {
   "cell_type": "markdown",
   "id": "3e4f7fea",
   "metadata": {},
   "source": [
    "Conclusion: Rats are always present before bat landings, which prevents us from conducting a hypothesis test to compare two different samples (with and without rats). The original idea was to compare two different scenarios, but with this dataset, it is not possible."
   ]
  },
  {
   "cell_type": "markdown",
   "id": "d39873fd",
   "metadata": {},
   "source": [
    "### Second point of view: Bats eat with rats or try to avoid eat with rats\n",
    "We will analyze whether bats eat in the presence of rats or if they wait until the rats are gone. To do this, we will compare the time when the bat approaches the food with the period during which the rats are present. If the bat goes to eat while the rats are still there, the variable BAT_EAT_WITH_RAT will take the value 1. If the bat eats after the rats have left, it will take the value 0.\n"
   ]
  },
  {
   "cell_type": "markdown",
   "id": "7096c6c6",
   "metadata": {},
   "source": [
    "### Quick analysis of time to go for food\n",
    "Before answering the question about how the distribution of bats eating with rats compares to bats eating without rats, we will first analyze whether bats go directly to eat or if the presence of rats makes them wait before approaching the food. Even though this is only a descriptive analysis, it could be useful as a first step to understand whether bats are trying to avoid the presence of rats.\n",
    "\n",
    "Our initial hypothesis is: if bats are trying to avoid eating with rats, this would be reflected in a longer waiting period between landing and \"going for food.\" If the distribution shows that bats are waiting longer, it could suggest that they are trying to find the right moment to approach the food because they see rats as potential predators and therefore feel scared."
   ]
  },
  {
   "cell_type": "code",
   "execution_count": 260,
   "id": "ce9026f2",
   "metadata": {},
   "outputs": [
    {
     "data": {
      "image/png": "[encoded data removed]",
      "text/plain": [
       "<Figure size 800x500 with 1 Axes>"
      ]
     },
     "metadata": {},
     "output_type": "display_data"
    }
   ],
   "source": [
    "plt.figure(figsize=(8,5))\n",
    "plt.hist(df1['BAT_LANDING_TO_FOOD_SEC'], bins=30, color='purple', alpha=0.7, edgecolor='black')\n",
    "plt.xlabel('time')\n",
    "plt.ylabel('# cases')\n",
    "plt.title('Time bats go to food after landing')\n",
    "plt.show()"
   ]
  },
  {
   "cell_type": "code",
   "execution_count": 261,
   "id": "6e24fb92",
   "metadata": {},
   "outputs": [
    {
     "data": {
      "image/png": "[encoded data removed]",
      "text/plain": [
       "<Figure size 800x500 with 1 Axes>"
      ]
     },
     "metadata": {},
     "output_type": "display_data"
    }
   ],
   "source": [
    "# Filter DataFrame to incluid cases where BAT_LANDING_TO_FOOD_SEC < 100 only.\n",
    "df1_filtrado = df1[df1['BAT_LANDING_TO_FOOD_SEC'] <= 100]\n",
    "\n",
    "plt.figure(figsize=(8,5))\n",
    "plt.xticks(np.arange(0, 101, 10))\n",
    "plt.hist(df1_filtrado['BAT_LANDING_TO_FOOD_SEC'], bins=30, color='purple', alpha=0.7, edgecolor='black')\n",
    "plt.xlabel('time')\n",
    "plt.ylabel('# cases')\n",
    "plt.title('Time bats go to food after landing (cases <= 100s)')\n",
    "plt.show()"
   ]
  },
  {
   "cell_type": "markdown",
   "id": "4a85798e",
   "metadata": {},
   "source": [
    "If we look at the distribution of 'time to go for food,' we can see that the highest concentration of cases occurs in the first second after landing. This gives the impression that bats go straight to the food because they don’t perceive rats as a danger or predator."
   ]
  },
  {
   "cell_type": "code",
   "execution_count": 262,
   "id": "92ef768f",
   "metadata": {},
   "outputs": [],
   "source": [
    "# Create the string column'EAT_WITH_RAT_CAT' with values 'Yes' or 'Not'.\n",
    "df1['EAT_WITH_RAT_CAT'] = np.where(df1['BAT_EAT_WITH_RAT'] == 1, 'Yes', 'Not')\n",
    "# df1.head()"
   ]
  },
  {
   "cell_type": "code",
   "execution_count": 263,
   "id": "ee776ac9",
   "metadata": {},
   "outputs": [
    {
     "data": {
      "image/png": "[encoded data removed]",
      "text/plain": [
       "<Figure size 800x500 with 1 Axes>"
      ]
     },
     "metadata": {},
     "output_type": "display_data"
    }
   ],
   "source": [
    "# Create the string column'EAT_WITH_RAT_CAT' with values 'Yes' or 'Not'.\n",
    "df1['BAT_EAT_WITH_RAT_CAT'] = np.where(df1['BAT_EAT_WITH_RAT'] == 1, 'Yes', 'Not')\n",
    "\n",
    "N_CASES = df1['BAT_EAT_WITH_RAT_CAT'].value_counts()\n",
    "\n",
    "# 2. Bar plot of the N_CASES\n",
    "plt.figure(figsize=(8,5))\n",
    "plt.bar(N_CASES.index, N_CASES.values, color='purple', alpha=0.7, edgecolor='black')\n",
    "plt.xlabel('Bat eating with rats')\n",
    "plt.ylabel('# cases')\n",
    "plt.title('Did the bat eat with the rats?')\n",
    "plt.show()"
   ]
  },
  {
   "cell_type": "markdown",
   "id": "367150f3",
   "metadata": {},
   "source": [
    "From the bar graph, it is possible to see that in the majority of cases, bats do not wait for the rats to leave before going to eat. This suggests that bats go to eat regardless of whether rats are present in most cases. This could mean that bats are not afraid of rats and are able to eat in their presence because they do not perceive rats as predators."
   ]
  },
  {
   "cell_type": "markdown",
   "id": "9b093180-29e0-4f26-b429-6b3f9458b391",
   "metadata": {},
   "source": [
    "## Normal Histogram distribution of Bat eating with rats"
   ]
  },
  {
   "cell_type": "markdown",
   "id": "1e4a71ad",
   "metadata": {},
   "source": [
    "To strengthen the analysis of the previous descriptive results, we will perform an inferential analysis to determine whether the descriptive findings can be confirmed through inferential statistics. For this analysis, we will rely on the Central Limit Theorem (CLT), which allows us to perform hypothesis tests because the sample means tend to follow a normal distribution with more than 30 cases.\n",
    "\n",
    "First, we will plot the histogram of the distribution of means of the variable BAT_EAT_WITH_RAT per day. We have data for 67 days, which allows us to use the CLT to conduct a hypothesis test. This test will determine whether the probability of bats eating in the presence of rats is greater than 0.5. If it is, this would indicate that bats eat with rats more often than not, suggesting that they do not avoid eating with rats because they do not perceive them as predators."
   ]
  },
  {
   "cell_type": "markdown",
   "id": "6dc942b2",
   "metadata": {},
   "source": [
    "### Graph of means distribution of BATS EATING WHIT RATS"
   ]
  },
  {
   "cell_type": "code",
   "execution_count": 264,
   "id": "61cfac63-c061-4bda-86cb-c85cba0995a2",
   "metadata": {
    "tags": []
   },
   "outputs": [
    {
     "data": {
      "image/png": "[encoded data removed]",
      "text/plain": [
       "<Figure size 640x480 with 1 Axes>"
      ]
     },
     "metadata": {},
     "output_type": "display_data"
    }
   ],
   "source": [
    "# Mean of BAT_EAT_WITH_RAT per day\n",
    "df1_grouped = df1.groupby(\"DATE\")[\"BAT_EAT_WITH_RAT\"].mean().reset_index()\n",
    "\n",
    "# Extract Column to Histogram\n",
    "AVG_BAT_EAT_WITH_RAT = df1_grouped[\"BAT_EAT_WITH_RAT\"]\n",
    "\n",
    "# Graficar histograma\n",
    "plt.hist(AVG_BAT_EAT_WITH_RAT, bins=10, edgecolor=\"black\", alpha=0.7)\n",
    "plt.title(\"MEAN DISTRIBUTION PROBABILITY OF BAT EAT WITH RATS\")\n",
    "plt.xlabel(\"DAILY MEAN PROBABILITY\")\n",
    "plt.ylabel(\"FRECUENCY\")\n",
    "plt.show()"
   ]
  },
  {
   "cell_type": "markdown",
   "id": "2e6e82bd",
   "metadata": {},
   "source": [
    "From the graph, it is possible to see that the distribution is not perfectly normal; in fact, it has a right skew. In principle, this is not a problem for using the Central Limit Theorem (CLT), because it only shows that the distribution has a mean biased toward the value 1 and is limited by this. This serves as an initial approach to confirm that the distribution of the means is very likely greater than 0.5."
   ]
  },
  {
   "cell_type": "markdown",
   "id": "21ef90e5",
   "metadata": {},
   "source": [
    "### Confidence Interval\n",
    "An initial approach to analyze the inferential statistics of our hypothesis is to examine the confidence interval of the mean of our daily distribution"
   ]
  },
  {
   "cell_type": "code",
   "execution_count": 265,
   "id": "bc61611c-3345-4743-bdd5-0be7350abf62",
   "metadata": {
    "tags": []
   },
   "outputs": [
    {
     "name": "stdout",
     "output_type": "stream",
     "text": [
      "n= 67\n",
      "Z= 1.959963984540054\n",
      "mean = 0.72\n",
      "Standard Desviation = 0.32\n",
      "Confidence interval 95%: ( 0.64 - 0.8 )\n"
     ]
    }
   ],
   "source": [
    "n = df1['DATE'].nunique()\n",
    "confidence = 0.95\n",
    "z = stats.norm.ppf(1 - (1 - confidence)/2)\n",
    "mean = round(AVG_BAT_EAT_WITH_RAT.mean(),2)\n",
    "SD = round(AVG_BAT_EAT_WITH_RAT.std(),2)\n",
    "#Limits of IC\n",
    "lower = round(mean - z*SD / np.sqrt(n),2)\n",
    "upper = round(mean + z*SD / np.sqrt(n),2)\n",
    "print(\"n=\", n)\n",
    "print(\"Z=\", z)\n",
    "print(\"mean =\", mean)\n",
    "print(\"Standard Desviation =\", SD)\n",
    "print(f\"Confidence interval 95%: (\",lower,\"-\", upper,\")\")"
   ]
  },
  {
   "cell_type": "markdown",
   "id": "00799e98",
   "metadata": {},
   "source": [
    "The 95% confidence interval is between [0.64 – 0.8]. This means that, with 95% confidence, the daily mean of AVG_BAT_EAT_WITH_RAT falls within this range. This helps us conclude that, on average, the proportion of cases in which bats eat in the presence of rats is greater than 0.5. Consequently, this indicates that bats are not avoiding eating with rats.\n"
   ]
  },
  {
   "cell_type": "markdown",
   "id": "f386090e-060d-48dd-8054-32ffd2d00307",
   "metadata": {},
   "source": [
    "## Hypothesis Test"
   ]
  },
  {
   "cell_type": "markdown",
   "id": "e180e130-c603-42cc-87ab-ad0dd1d4ff77",
   "metadata": {},
   "source": [
    "Hypothesis\n",
    "\n",
    "H0: P < 0.5 = Proportion of cases where bats eat with rats is lower than 0.5. (bats avoid eat when are rats)\n",
    "\n",
    "H1: P > 0.5 = Proportion of cases where bats eat with rats is higher than 0.5. (bats don't avoid eat when are rats)\n",
    "\n",
    "if p_value es < 0.05, H0 can't be supported and this means that bats eat mostly of the time in presence of rats."
   ]
  },
  {
   "cell_type": "code",
   "execution_count": 266,
   "id": "0e4fbdef-3bdf-49d7-8a98-1d01c3e793f4",
   "metadata": {
    "tags": []
   },
   "outputs": [
    {
     "name": "stdout",
     "output_type": "stream",
     "text": [
      "Proporción observada: 0.83\n",
      "z-statistic: 19.89\n",
      "p-value (una cola): 0.0000\n"
     ]
    }
   ],
   "source": [
    "n_total = df1[\"BAT_EAT_WITH_RAT\"].count()\n",
    "n_success = df1[\"BAT_EAT_WITH_RAT\"].sum()\n",
    "p_hat = n_success/n_total\n",
    "p0 = 0.5\n",
    "z = (p_hat - p0) / np.sqrt(p0*(1-p0)/n_total)\n",
    "p_value = 1 - stats.norm.cdf(z)\n",
    "print(\"Proporción observada:\", round(p_hat,2))\n",
    "print(\"z-statistic:\", round(z,2))\n",
    "print(\"p-value (una cola):\", format(p_value,\".4f\"))"
   ]
  },
  {
   "cell_type": "markdown",
   "id": "1e40776a-d38c-4802-a984-45209c40a0b6",
   "metadata": {},
   "source": [
    "The p-value measures how compatible the data are with the null hypothesis (H0). If the data are highly compatible with H0, then we cannot reject H0.\n",
    "\n",
    "However, if the p-value is very small, it indicates that the data do not support H0. Basically, a large p-value means that H0 cannot be rejected.\n",
    "\n",
    "The threshold we use to decide whether to accept or reject H0 is 0.05.\n",
    "\n",
    "In this case, H0 ≈ 0, which means that the data do not support H0 and that bats are eating with rats in a proportion greater than 0.5."
   ]
  },
  {
   "cell_type": "markdown",
   "id": "50d72542",
   "metadata": {},
   "source": [
    "### BINOMIAL TEST\n",
    "How the distribution de of the means doesn't look normal, we will realize a Binomial Hipothesis Test because this kind of test don't depend of the CLT and don't requiere that the mean behave normally. For this test we need calculate the proportion of successful cases/ Total cases and define a H0. Our H0 will be p <= 0.5 (Bats eat with rats in a proportion lower than 0.5 / bats avoid eat when are rats). We will use a level of significance of 95 (This means that alpha = 0.05). If p_value < 0.05 we will reject H0 and the bats will eat mostly of the time with rats."
   ]
  },
  {
   "cell_type": "code",
   "execution_count": 267,
   "id": "f8a184fc",
   "metadata": {},
   "outputs": [
    {
     "name": "stdout",
     "output_type": "stream",
     "text": [
      "Result = BinomTestResult(k=753, n=907, alternative='greater', statistic=0.8302094818081588, pvalue=1.1405278289457543e-95)\n"
     ]
    }
   ],
   "source": [
    "# Parameters\n",
    "\n",
    "k = df1['BAT_EAT_WITH_RAT'].sum() # Number of successes (Bats eating with rats)\n",
    "n = len(df1) # Total number of trials (Total bat landings)\n",
    "\n",
    "# Probability of H0.\n",
    "#  H0: p <= 0.5, because of that we choose the probability 0.5\n",
    "p_hipotesis = 0.5\n",
    "\n",
    "# Binomial Test\n",
    "# H1: p> 0.5 (greater) => one-tailed test\n",
    "result = binomtest(k, n, p=p_hipotesis, alternative='greater')\n",
    "print(\"Result =\", result)"
   ]
  },
  {
   "cell_type": "markdown",
   "id": "ba8f52f6",
   "metadata": {},
   "source": [
    "### Result\n",
    "pvalue=1.14...e-95 <0.05\n",
    "This mean that H0 is rejected and Bats eat mostly of the time with rats (Bats aren't avoiding rats)."
   ]
  },
  {
   "cell_type": "markdown",
   "id": "e08088bc-0b5c-4d07-8370-61f6ed4e5e5c",
   "metadata": {},
   "source": [
    "## DF2: Register of recording videos"
   ]
  },
  {
   "cell_type": "markdown",
   "id": "c83d8669",
   "metadata": {},
   "source": [
    "Although the recorded videos are aggregated, which means we cannot analyze each individual landing, performing a statistical analysis like the one before is not possible. The most useful analysis we can perform in this case is to evaluate the correlation between variables.\n",
    "\n",
    "From this initial exploratory analysis, we can determine whether some variables are correlated with others. An interesting correlation to investigate could be whether the number of rats is negatively correlated with the number of bat arrivals. If such a correlation exists, it could indicate that the presence of rats affects the number of bat landings, which could be interpreted as a possible avoidance behavior of bats toward rats."
   ]
  },
  {
   "cell_type": "code",
   "execution_count": 268,
   "id": "7036f4a3-30db-40a7-997d-d0b1404e146b",
   "metadata": {},
   "outputs": [
    {
     "data": {
      "application/vnd.microsoft.datawrangler.viewer.v0+json": {
       "columns": [
        {
         "name": "index",
         "rawType": "int64",
         "type": "integer"
        },
        {
         "name": "time",
         "rawType": "object",
         "type": "string"
        },
        {
         "name": "month",
         "rawType": "int64",
         "type": "integer"
        },
        {
         "name": "hours_after_sunset",
         "rawType": "float64",
         "type": "float"
        },
        {
         "name": "bat_landing_number",
         "rawType": "int64",
         "type": "integer"
        },
        {
         "name": "food_availability",
         "rawType": "float64",
         "type": "float"
        },
        {
         "name": "rat_minutes",
         "rawType": "float64",
         "type": "float"
        },
        {
         "name": "rat_arrival_number",
         "rawType": "int64",
         "type": "integer"
        }
       ],
       "ref": "f5b5d318-a9ac-4088-8db9-695d5f96d39b",
       "rows": [
        [
         "0",
         "26/12/2017 16:13",
         "0",
         "-0.5",
         "20",
         "4.0",
         "0.0",
         "0"
        ],
        [
         "1",
         "26/12/2017 16:43",
         "0",
         "0.0",
         "28",
         "4.0",
         "0.0",
         "0"
        ],
        [
         "2",
         "26/12/2017 17:13",
         "0",
         "0.5",
         "25",
         "4.0",
         "0.0",
         "0"
        ],
        [
         "3",
         "26/12/2017 17:43",
         "0",
         "1.0",
         "71",
         "4.0",
         "0.0",
         "0"
        ],
        [
         "4",
         "26/12/2017 18:13",
         "0",
         "1.5",
         "44",
         "3.753856942",
         "0.0",
         "0"
        ]
       ],
       "shape": {
        "columns": 7,
        "rows": 5
       }
      },
      "text/html": [
       "<div>\n",
       "<style scoped>\n",
       "    .dataframe tbody tr th:only-of-type {\n",
       "        vertical-align: middle;\n",
       "    }\n",
       "\n",
       "    .dataframe tbody tr th {\n",
       "        vertical-align: top;\n",
       "    }\n",
       "\n",
       "    .dataframe thead th {\n",
       "        text-align: right;\n",
       "    }\n",
       "</style>\n",
       "<table border=\"1\" class=\"dataframe\">\n",
       "  <thead>\n",
       "    <tr style=\"text-align: right;\">\n",
       "      <th></th>\n",
       "      <th>time</th>\n",
       "      <th>month</th>\n",
       "      <th>hours_after_sunset</th>\n",
       "      <th>bat_landing_number</th>\n",
       "      <th>food_availability</th>\n",
       "      <th>rat_minutes</th>\n",
       "      <th>rat_arrival_number</th>\n",
       "    </tr>\n",
       "  </thead>\n",
       "  <tbody>\n",
       "    <tr>\n",
       "      <th>0</th>\n",
       "      <td>26/12/2017 16:13</td>\n",
       "      <td>0</td>\n",
       "      <td>-0.5</td>\n",
       "      <td>20</td>\n",
       "      <td>4.000000</td>\n",
       "      <td>0.0</td>\n",
       "      <td>0</td>\n",
       "    </tr>\n",
       "    <tr>\n",
       "      <th>1</th>\n",
       "      <td>26/12/2017 16:43</td>\n",
       "      <td>0</td>\n",
       "      <td>0.0</td>\n",
       "      <td>28</td>\n",
       "      <td>4.000000</td>\n",
       "      <td>0.0</td>\n",
       "      <td>0</td>\n",
       "    </tr>\n",
       "    <tr>\n",
       "      <th>2</th>\n",
       "      <td>26/12/2017 17:13</td>\n",
       "      <td>0</td>\n",
       "      <td>0.5</td>\n",
       "      <td>25</td>\n",
       "      <td>4.000000</td>\n",
       "      <td>0.0</td>\n",
       "      <td>0</td>\n",
       "    </tr>\n",
       "    <tr>\n",
       "      <th>3</th>\n",
       "      <td>26/12/2017 17:43</td>\n",
       "      <td>0</td>\n",
       "      <td>1.0</td>\n",
       "      <td>71</td>\n",
       "      <td>4.000000</td>\n",
       "      <td>0.0</td>\n",
       "      <td>0</td>\n",
       "    </tr>\n",
       "    <tr>\n",
       "      <th>4</th>\n",
       "      <td>26/12/2017 18:13</td>\n",
       "      <td>0</td>\n",
       "      <td>1.5</td>\n",
       "      <td>44</td>\n",
       "      <td>3.753857</td>\n",
       "      <td>0.0</td>\n",
       "      <td>0</td>\n",
       "    </tr>\n",
       "  </tbody>\n",
       "</table>\n",
       "</div>"
      ],
      "text/plain": [
       "               time  month  hours_after_sunset  bat_landing_number  \\\n",
       "0  26/12/2017 16:13      0                -0.5                  20   \n",
       "1  26/12/2017 16:43      0                 0.0                  28   \n",
       "2  26/12/2017 17:13      0                 0.5                  25   \n",
       "3  26/12/2017 17:43      0                 1.0                  71   \n",
       "4  26/12/2017 18:13      0                 1.5                  44   \n",
       "\n",
       "   food_availability  rat_minutes  rat_arrival_number  \n",
       "0           4.000000          0.0                   0  \n",
       "1           4.000000          0.0                   0  \n",
       "2           4.000000          0.0                   0  \n",
       "3           4.000000          0.0                   0  \n",
       "4           3.753857          0.0                   0  "
      ]
     },
     "execution_count": 268,
     "metadata": {},
     "output_type": "execute_result"
    }
   ],
   "source": [
    "df2.head()"
   ]
  },
  {
   "cell_type": "markdown",
   "id": "6b6055d9-73ac-4d2b-9520-e49695aa5539",
   "metadata": {
    "tags": []
   },
   "source": [
    "### Correlation Matrix\n",
    "\n",
    "We will analyze the correlation between variables to see if exist any correlation interesting that could help us to identify if bats are avoiding rats.\n",
    "\n",
    "Rat Presence variable\n",
    "\n",
    "We will create a variable name rat_presence as parameter to evaluate the impact of rat presence in other variables. rat_presence = 1 if rat_arrival_number > 0, otherwise rat_presence = 0."
   ]
  },
  {
   "cell_type": "code",
   "execution_count": 269,
   "id": "0bb37fb6-8fae-45cd-ac81-bf7dcf00b292",
   "metadata": {
    "tags": []
   },
   "outputs": [
    {
     "data": {
      "image/png": "[encoded data removed]",
      "text/plain": [
       "<Figure size 800x600 with 2 Axes>"
      ]
     },
     "metadata": {},
     "output_type": "display_data"
    }
   ],
   "source": [
    "df2['rat_presence'] = (df2['rat_arrival_number'] > 0).astype(int)\n",
    "cols = ['hours_after_sunset', 'bat_landing_number', 'food_availability', 'rat_presence']\n",
    "\n",
    "corr = df2[cols].corr()\n",
    "plt.figure(figsize=(8, 6))\n",
    "sns.heatmap(corr, annot=True, cmap='coolwarm', fmt=\".2f\", linewidths=0.5)\n",
    "plt.title('Matriz de Correlación')\n",
    "plt.show()"
   ]
  },
  {
   "cell_type": "markdown",
   "id": "08955aa4-1e90-4763-b615-d65ad3b1e63d",
   "metadata": {},
   "source": [
    "# Conclusions"
   ]
  },
  {
   "cell_type": "markdown",
   "id": "9377a6a3-d0cd-4b0e-ae20-7c5b86b2f30b",
   "metadata": {},
   "source": [
    "When examining the correlation matrix, we can observe the following:\n",
    "\n",
    "1. There is a weak negative correlation between bat landings and the presence of rats (-0.1). This suggests that bats, although only slightly, tend to avoid landing when rats are present.\n",
    "\n",
    "2. Food availability decreases as the night progresses, shown by its strong negative correlation with hours after sunset (-0.84).\n",
    "\n",
    "3. Food availability shows a weak positive correlation with bat landings (0.1) and a weak negative correlation with rat presence (-0.07).\n",
    "\n",
    "4. Rat presence has a weak positive correlation with hours after sunset (0.12) and a weak negative correlation with food availability (-0.07).\n",
    "\n",
    "Although these correlations are not strong, we can infer the following:\n",
    "\n",
    "1. The presence of rats slightly reduces the number of bat landings (bats avoid rats).\n",
    "\n",
    "2. Bats tend to feed earlier than rats, at times when food availability is higher.\n",
    "\n",
    "These conclusions are not strong enough to support a definitive analysis; they are only initial points of reference for conducting a more detailed statistical study.\n",
    "\n",
    "Overall, there is no clear relationship between the time of day and the appearance of either rats or bats. This suggests that neither species exhibits a pronounced temporal pattern in their activity.\n",
    "\n",
    "The only clear observation is that as the night progresses, food availability declines."
   ]
  },
  {
   "cell_type": "markdown",
   "id": "0f9dcc59",
   "metadata": {},
   "source": [
    "### Relation between Bats landings and Rats Arrivals\n",
    "We will use a scatter plot to visualize the correlation between bat landings and rat arrivals. This will help us identify whether any groups of data exhibit interesting correlations.\n",
    "\n",
    "Hint: her we evaluate rats_arriving because rat_presence is a binomial variable and both variables have similar mean in this case.\n"
   ]
  },
  {
   "cell_type": "code",
   "execution_count": 270,
   "id": "0c8dc790-031b-4d4d-a463-c13c0e77201d",
   "metadata": {
    "tags": []
   },
   "outputs": [
    {
     "data": {
      "image/png": "[encoded data removed]",
      "text/plain": [
       "<Figure size 700x500 with 1 Axes>"
      ]
     },
     "metadata": {},
     "output_type": "display_data"
    }
   ],
   "source": [
    "# BAT LANDING VS RATS ARRIVALS\n",
    "# Delete outliyer\n",
    "df2 = df2[df2['rat_arrival_number'] != 17]\n",
    "plt.figure(figsize=(7,5))\n",
    "sns.regplot(x='rat_arrival_number', y='bat_landing_number', data=df2)\n",
    "plt.title('Bats landings vs Rats arrivals')\n",
    "plt.xlabel('Rat Arrival Number')\n",
    "plt.ylabel('Bat Landing Number')\n",
    "plt.show()"
   ]
  },
  {
   "cell_type": "markdown",
   "id": "b160ba92",
   "metadata": {},
   "source": [
    "From the graph, we can see a weak negative correlation between the two variables (-0.07, according to the correlation matrix). We already expected the correlation to be weak, but we were looking for any group of data that might exhibit different behavior. Aside from a few isolated cases, no group of cases behaves differently."
   ]
  },
  {
   "cell_type": "markdown",
   "id": "e4e334a8",
   "metadata": {},
   "source": [
    "### Pearson Test to Evaluate the Statistical Significance of the Correlation Between Bats_Landings and Rat_Presence\n",
    "\n",
    "We will apply a Pearson correlation test to evaluate whether the relationship between bats_landings and rat_presence is statistically significant. Although the observed correlation is weak, it is important to test its significance, since the strength of a correlation does not necessarily imply statistical significance.\n",
    "\n",
    "H0: ρ = 0 => Don't exist correlation\n",
    "H1: ρ ≠ 0 => Exist correlation\n",
    "\n",
    "p-value < α, we reject H0 and exist correlation."
   ]
  },
  {
   "cell_type": "code",
   "execution_count": 271,
   "id": "4fab3f0b",
   "metadata": {},
   "outputs": [
    {
     "name": "stdout",
     "output_type": "stream",
     "text": [
      "Correlación: -0.1015\n",
      "P-valor: 0.0000\n"
     ]
    }
   ],
   "source": [
    "# Pearson Test to Evaluate the Statistical Significance of the Correlation Between Bats_Landings and Rat_Presence.\n",
    "\n",
    "correlation, p_value = pearsonr(df2['rat_presence'], df2['bat_landing_number'])\n",
    "\n",
    "print(f\"Correlación: {correlation:.4f}\")\n",
    "print(f\"P-valor: {p_value:.4f}\")"
   ]
  },
  {
   "cell_type": "markdown",
   "id": "1105ef77",
   "metadata": {},
   "source": [
    "Conclusion: exist correlation between Bats_landing and rat_presence.\n",
    "\n",
    "Although a correlation exists, we need a more robust statistical analysis to demonstrate that bat_landings decrease due to rat_presence, because correlation does not imply causation."
   ]
  },
  {
   "cell_type": "markdown",
   "id": "11033eaa",
   "metadata": {},
   "source": [
    "# Two Tails Hypothesis Test\n",
    "We will create two groups based on the presence of rats (rat_presence) and compare the mean number of bat landings between these two groups using a t-test for independent samples.\n",
    "\n",
    "H0: μ1 = μ2 => No difference in bat landings between the two groups.\n",
    "H1: μ1 ≠ μ2 => There is a difference in bat landings between the two groups.\n",
    "\n"
   ]
  },
  {
   "cell_type": "code",
   "execution_count": 288,
   "id": "6f08ee03",
   "metadata": {},
   "outputs": [
    {
     "name": "stdout",
     "output_type": "stream",
     "text": [
      "Estadístico Z: 5.094105366702224\n",
      "covariance: 1.1692656254628664\n",
      "mean1 - mean 2: 33.60709759188847 - 27.65073529411765\n",
      "n1 y n2: 1578 - 544\n",
      "Diff std: 1.1692656254628664\n",
      "z_statistic: 5.094105366702224\n",
      "P-value: 3.5039186596641514e-07\n"
     ]
    }
   ],
   "source": [
    "# Create two groups based on the presence of rats (rat_presence).\n",
    "group_without_rats = df2[df2['rat_presence'] == 0]['bat_landing_number']\n",
    "group_with_rats = df2[df2['rat_presence'] == 1]['bat_landing_number']\n",
    "\n",
    "# Central Tendency and Dispersion of both groups\n",
    "mean1 = np.mean(group_without_rats)\n",
    "mean2 = np.mean(group_with_rats)\n",
    "std1  = np.std(group_without_rats, ddof=1)\n",
    "std2 = np.std(group_with_rats, ddof=1)\n",
    "n1 = len(group_without_rats)\n",
    "n2 = len(group_with_rats)\n",
    "\n",
    "# Z Stadistic\n",
    "se12 = sqrt((std1**2 / n1) + (std2**2 / n2))\n",
    "z_stat = (mean1 - mean2) / se12\n",
    "\n",
    "# P-value bilateral\n",
    "p_value = 2 * (1 - norm.cdf(abs(z_stat)))\n",
    "\n",
    "print(f\"Estadístico Z: {z_stat}\")\n",
    "print(f\"covariance: {se12}\")\n",
    "print(f\"mean1 - mean 2: {mean1} - {mean2}\")\n",
    "print(f\"n1 y n2: {n1} - {n2}\")\n",
    "print(f\"Diff std: {sqrt((std1**2 / n1) + (std2**2 / n2))}\")\n",
    "print(f\"z_statistic: {z_stat}\")\n",
    "print(f\"P-value: {p_value}\")"
   ]
  },
  {
   "cell_type": "markdown",
   "id": "8293d9c5",
   "metadata": {},
   "source": [
    "Conclusion: con P-value: 3.5e-07 < 0.05, we reject H0 with a 95% of confidence because the data don't support H0. This means that exist a significant diference between both goups. To analize if the difference between both groups we will do a confidence Interval between tha difference of both means."
   ]
  },
  {
   "cell_type": "code",
   "execution_count": null,
   "id": "03ffed1b",
   "metadata": {},
   "outputs": [
    {
     "name": "stdout",
     "output_type": "stream",
     "text": [
      "Mean difference: 5.95636229777082\n",
      "Confidence Interval of 95%: (3.664643783502902, 8.248080812038738)\n"
     ]
    }
   ],
   "source": [
    "# Means difference\n",
    "diff_means = mean1 - mean2\n",
    "\n",
    "# Standard Error difference\n",
    "se12 = sqrt((std1**2 / n1) + (std2**2 / n2))\n",
    "\n",
    "# Z critical value for 95% confidence\n",
    "z = norm.ppf(1 - 0.05/2)\n",
    "\n",
    "# Intervalo de confianza\n",
    "ci_lower = diff_means - z * se12\n",
    "ci_upper = diff_means + z * se12\n",
    "\n",
    "print(f\"Mean difference: {diff_means}\")\n",
    "print(f\"Confidence Interval of 95%: ({ci_lower}, {ci_upper})\")"
   ]
  },
  {
   "cell_type": "markdown",
   "id": "91736b75",
   "metadata": {},
   "source": [
    "This mean that with a 95% of probability the mean of bats_landings is between 3.6 to 8.25 more landings without rats than with rats. Since the value 0 is not within the confidence interval, we reject the null hypothesis that there is no difference between the means."
   ]
  },
  {
   "cell_type": "markdown",
   "id": "9baf2662",
   "metadata": {},
   "source": [
    "### Final Conclusion: A Balance of Caution and Boldness Between Bats and Rats\n",
    "\n",
    "This analysis shows a complex interaction between bats and rats at the feeding platform. Their behavior is not the same for all individuals and can change depending on rat exposure over time.\n",
    "\n",
    "At the population level (df2), the presence of rats clearly deters bats: more rat activity is linked to fewer bat landings, suggesting that most bats perceive rats as a risk.\n",
    "\n",
    "However, some individual bats (df1) show remarkable boldness. When we analyze the bats that do land, they feed directly in the presence of rats without waiting for them to leave. This paradox—general caution but individual boldness—may result from self-selection, where only the boldest or most experienced bats are confident enough to land and feed despite rats.\n",
    "\n",
    "This boldness could be learned through repeated exposure to rats, with some bats becoming accustomed to their presence and realizing that the reward of food outweighs the risk (which might be reflected in an increase in the mean of bats eating with rats over time). Alternatively, it could reflect natural differences between bats, where the group that lands and feeds in the presence of rats is naturally bold, while others are more cautious.\n",
    "\n",
    "In the next analysis, we will explore whether this bold behavior develops over time as more bats adopt it, or if it is simply a trait of a specific subgroup of bats."
   ]
  },
  {
   "cell_type": "markdown",
   "id": "66a1e1b1",
   "metadata": {},
   "source": [
    "# Analysis of Boldness as a Learned Behavior\n",
    "\n",
    "To examine whether boldness is a learned behavior or simply a trait found in certain individuals within the population, we will evaluate the mean of BATS_EAT_WITH_RATS over time. If the mean increases as the months go by, it would suggest that bats are gradually becoming less fearful of rats, having learned that they do not pose a real threat. However, if the mean remains stable or decreases, this would indicate that boldness is not a learned behavior but rather an inherent trait that only certain individuals possess, enabling them to feed in the presence of rats without being intimidated.\n",
    "\n",
    "# Grafic Analysis\n",
    "\n",
    "To determine whether boldness (the willingness to feed in the presence of rats) is a learned behavior or an intrinsic trait exhibited only by certain individuals in the population, we evaluated the temporal evolution of the variable BATS_EAT_WITH_RATS.\n",
    "\n",
    "Specifically, we calculated the 7-day moving average of the daily mean of this variable over the six months of the study. Using a moving average allows us to smooth out daily fluctuations and better capture the underlying trend.\n",
    "\n",
    "Positive reinforcement: If the mean increases over time, this would suggest that bats progressively learn that rats do not pose a threat, thereby developing bolder behavior.\n",
    "\n",
    "Negative reinforcement: If the mean decreases, it would indicate that bold individuals learn that, although rats are not predators, eating in their presence is an energy-draining situation, so they try to avoid feeding when rats are around."
   ]
  },
  {
   "cell_type": "code",
   "execution_count": 316,
   "id": "c6eb2f7c",
   "metadata": {},
   "outputs": [
    {
     "name": "stderr",
     "output_type": "stream",
     "text": [
      "No artists with labels found to put in legend.  Note that artists whose label start with an underscore are ignored when legend() is called with no argument.\n"
     ]
    },
    {
     "data": {
      "image/png": "[encoded data removed]",
      "text/plain": [
       "<Figure size 1700x800 with 1 Axes>"
      ]
     },
     "metadata": {},
     "output_type": "display_data"
    }
   ],
   "source": [
    "# First: Prepare the data of BATS_EAT_WITH_RATS\n",
    "df1['DATE'] = pd.to_datetime(df1['DATE'], format='%d/%m/%Y')\n",
    "BAT_EAT_WITH_RATS_DAILY = df1.groupby('DATE')['BAT_EAT_WITH_RAT'].agg(['mean', 'count'])\n",
    "# Filter days with at least 5 observations (avoid noise)\n",
    "BAT_EAT_WITH_RATS_DAILY_FIL = BAT_EAT_WITH_RATS_DAILY[BAT_EAT_WITH_RATS_DAILY['count'] >= 5]['mean']\n",
    "# Calculate the 7-day moving mean\n",
    "BAT_EAT_WITH_RATS_DAILY_MOVING_MEAN = BAT_EAT_WITH_RATS_DAILY_FIL.rolling(window=7, min_periods=1).mean()\n",
    "\n",
    "# Plot the trend line\n",
    "fig, ax = plt.subplots(figsize=(17, 8))\n",
    "ax.plot(BAT_EAT_WITH_RATS_DAILY_MOVING_MEAN.index, BAT_EAT_WITH_RATS_DAILY_MOVING_MEAN, color='tab:blue', linewidth=2.5)\n",
    "\n",
    "\n",
    "ax.set_xlabel('Date', fontsize=12)\n",
    "ax.set_ylabel( 'Movil mean 7 days of BATS_EAT_WITH_RATS', fontsize=12)\n",
    "ax.set_title('Tendency of mean BAT_EAT_WITH_RATS', fontsize=16)\n",
    "ax.tick_params(axis='y')\n",
    "ax.set_ylim(0, 1.1)\n",
    "ax.legend(loc='upper left')\n",
    "\n",
    "plt.show()"
   ]
  },
  {
   "cell_type": "markdown",
   "id": "b01aab7f",
   "metadata": {},
   "source": [
    "Conclusion: Learning through Negative Reinforcement\n",
    "The decreacing tendency of the mean of BAT_EAT_WITH_RATS shows that rather becoming habituated, the bats are learning that continued interaction with the rats is, in the long run, negative. The possible reasons could be:\n",
    "\n",
    "Energy Cost: Constant competition for food is exhausting.\n",
    "\n",
    "Stress: Proximity to a competitor, even if not a predator, generates stress that cumulatively outweighs the benefit of food.\n",
    "\n",
    "Annoyance: The rats may be stealing their food or simply interrupting their feeding."
   ]
  }
 ],
 "metadata": {
  "kernelspec": {
   "display_name": "base",
   "language": "python",
   "name": "python3"
  },
  "language_info": {
   "codemirror_mode": {
    "name": "ipython",
    "version": 3
   },
   "file_extension": ".py",
   "mimetype": "text/x-python",
   "name": "python",
   "nbconvert_exporter": "python",
   "pygments_lexer": "ipython3",
   "version": "3.11.3"
  }
 },
 "nbformat": 4,
 "nbformat_minor": 5
}
