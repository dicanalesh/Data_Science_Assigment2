{
 "cells": [
  {
   "cell_type": "markdown",
   "id": "92ddf2ce-ee72-4866-99b6-cea5a96e3b98",
   "metadata": {},
   "source": [
    "# Investigation A: Do bats perceive rats as predators?"
   ]
  },
  {
   "cell_type": "markdown",
   "id": "6289117e-675e-4794-9ef3-d3f55408f8a2",
   "metadata": {},
   "source": [
    "# objective \n",
    "To determine if the presence of rats influences bat behavior—specifically avoidance (risk-taking) and vigilance—during foraging."
   ]
  },
  {
   "cell_type": "code",
   "execution_count": 1,
   "id": "c3a031a2-f19e-438f-8ef1-14039941123e",
   "metadata": {},
   "outputs": [],
   "source": [
    "import pandas as pd\n",
    "import numpy as np\n",
    "\n",
    "df1 = pd.read_csv('dataset1.csv') # bat behaviour data \n",
    "df2 = pd.read_csv('dataset2.csv') #rat activity data "
   ]
  },
  {
   "cell_type": "markdown",
   "id": "1f144de9-f70c-4db8-a71d-b8f94a09ec8f",
   "metadata": {},
   "source": [
    "# Dataset1: Bat landing events with behavioral annotations\n",
    "# Dataset2: Rat arrival summaries over 30-minute intervals"
   ]
  },
  {
   "cell_type": "code",
   "execution_count": null,
   "id": "c1eb2e6e-a444-4c79-9426-2fd144a0b63f",
   "metadata": {},
   "outputs": [
    {
     "ename": "SyntaxError",
     "evalue": "invalid syntax (1926083661.py, line 1)",
     "output_type": "error",
     "traceback": [
      "\u001b[1;36m  Cell \u001b[1;32mIn[2], line 1\u001b[1;36m\u001b[0m\n\u001b[1;33m    The goals are:\u001b[0m\n\u001b[1;37m        ^\u001b[0m\n\u001b[1;31mSyntaxError\u001b[0m\u001b[1;31m:\u001b[0m invalid syntax\n"
     ]
    }
   ],
   "source": [
    "# The goals are:\n",
    "#1. exploring and cleaning the data.\n",
    "#2. performing descriptive and inferential statistics.\n",
    "#3. Comparing results between the two datasets.\n",
    "#4. Conclude on the role of rats in influencing bat feeding behaviour."
   ]
  },
  {
   "cell_type": "code",
   "execution_count": null,
   "id": "cd2ca0d9-ca81-442e-a596-93e032dcb24a",
   "metadata": {},
   "outputs": [
    {
     "name": "stdout",
     "output_type": "stream",
     "text": [
      "<class 'pandas.core.frame.DataFrame'>\n",
      "RangeIndex: 907 entries, 0 to 906\n",
      "Data columns (total 12 columns):\n",
      " #   Column                     Non-Null Count  Dtype  \n",
      "---  ------                     --------------  -----  \n",
      " 0   start_time                 907 non-null    object \n",
      " 1   bat_landing_to_food        907 non-null    float64\n",
      " 2   habit                      866 non-null    object \n",
      " 3   rat_period_start           907 non-null    object \n",
      " 4   rat_period_end             907 non-null    object \n",
      " 5   seconds_after_rat_arrival  907 non-null    int64  \n",
      " 6   risk                       907 non-null    int64  \n",
      " 7   reward                     907 non-null    int64  \n",
      " 8   month                      907 non-null    int64  \n",
      " 9   sunset_time                907 non-null    object \n",
      " 10  hours_after_sunset         907 non-null    float64\n",
      " 11  season                     907 non-null    int64  \n",
      "dtypes: float64(2), int64(5), object(5)\n",
      "memory usage: 85.2+ KB\n",
      "<class 'pandas.core.frame.DataFrame'>\n",
      "RangeIndex: 2123 entries, 0 to 2122\n",
      "Data columns (total 7 columns):\n",
      " #   Column              Non-Null Count  Dtype  \n",
      "---  ------              --------------  -----  \n",
      " 0   time                2123 non-null   object \n",
      " 1   month               2123 non-null   int64  \n",
      " 2   hours_after_sunset  2123 non-null   float64\n",
      " 3   bat_landing_number  2123 non-null   int64  \n",
      " 4   food_availability   2123 non-null   float64\n",
      " 5   rat_minutes         2123 non-null   float64\n",
      " 6   rat_arrival_number  2123 non-null   int64  \n",
      "dtypes: float64(3), int64(3), object(1)\n",
      "memory usage: 116.2+ KB\n"
     ]
    }
   ],
   "source": [
    "df1.info() # command to check the quick structural summary of the data set.\n",
    "\n",
    "df2.info()\n"
   ]
  },
  {
   "cell_type": "code",
   "execution_count": null,
   "id": "384d2301-b497-4051-8356-d8b4f5eb67c4",
   "metadata": {},
   "outputs": [
    {
     "data": {
      "text/html": [
       "<div>\n",
       "<style scoped>\n",
       "    .dataframe tbody tr th:only-of-type {\n",
       "        vertical-align: middle;\n",
       "    }\n",
       "\n",
       "    .dataframe tbody tr th {\n",
       "        vertical-align: top;\n",
       "    }\n",
       "\n",
       "    .dataframe thead th {\n",
       "        text-align: right;\n",
       "    }\n",
       "</style>\n",
       "<table border=\"1\" class=\"dataframe\">\n",
       "  <thead>\n",
       "    <tr style=\"text-align: right;\">\n",
       "      <th></th>\n",
       "      <th>bat_landing_to_food</th>\n",
       "      <th>seconds_after_rat_arrival</th>\n",
       "      <th>risk</th>\n",
       "      <th>reward</th>\n",
       "      <th>month</th>\n",
       "      <th>hours_after_sunset</th>\n",
       "      <th>season</th>\n",
       "    </tr>\n",
       "  </thead>\n",
       "  <tbody>\n",
       "    <tr>\n",
       "      <th>count</th>\n",
       "      <td>907.000000</td>\n",
       "      <td>907.000000</td>\n",
       "      <td>907.000000</td>\n",
       "      <td>907.000000</td>\n",
       "      <td>907.000000</td>\n",
       "      <td>907.000000</td>\n",
       "      <td>907.000000</td>\n",
       "    </tr>\n",
       "    <tr>\n",
       "      <th>mean</th>\n",
       "      <td>11.713134</td>\n",
       "      <td>282.877619</td>\n",
       "      <td>0.495039</td>\n",
       "      <td>0.533627</td>\n",
       "      <td>3.800441</td>\n",
       "      <td>5.531863</td>\n",
       "      <td>0.833517</td>\n",
       "    </tr>\n",
       "    <tr>\n",
       "      <th>std</th>\n",
       "      <td>27.644410</td>\n",
       "      <td>240.974918</td>\n",
       "      <td>0.500251</td>\n",
       "      <td>0.499143</td>\n",
       "      <td>1.199190</td>\n",
       "      <td>2.414146</td>\n",
       "      <td>0.372719</td>\n",
       "    </tr>\n",
       "    <tr>\n",
       "      <th>min</th>\n",
       "      <td>0.010238</td>\n",
       "      <td>0.000000</td>\n",
       "      <td>0.000000</td>\n",
       "      <td>0.000000</td>\n",
       "      <td>0.000000</td>\n",
       "      <td>-0.261667</td>\n",
       "      <td>0.000000</td>\n",
       "    </tr>\n",
       "    <tr>\n",
       "      <th>25%</th>\n",
       "      <td>1.000000</td>\n",
       "      <td>89.500000</td>\n",
       "      <td>0.000000</td>\n",
       "      <td>0.000000</td>\n",
       "      <td>4.000000</td>\n",
       "      <td>3.779028</td>\n",
       "      <td>1.000000</td>\n",
       "    </tr>\n",
       "    <tr>\n",
       "      <th>50%</th>\n",
       "      <td>4.000000</td>\n",
       "      <td>206.000000</td>\n",
       "      <td>0.000000</td>\n",
       "      <td>1.000000</td>\n",
       "      <td>4.000000</td>\n",
       "      <td>5.622778</td>\n",
       "      <td>1.000000</td>\n",
       "    </tr>\n",
       "    <tr>\n",
       "      <th>75%</th>\n",
       "      <td>11.500000</td>\n",
       "      <td>446.500000</td>\n",
       "      <td>1.000000</td>\n",
       "      <td>1.000000</td>\n",
       "      <td>5.000000</td>\n",
       "      <td>7.402778</td>\n",
       "      <td>1.000000</td>\n",
       "    </tr>\n",
       "    <tr>\n",
       "      <th>max</th>\n",
       "      <td>443.000000</td>\n",
       "      <td>949.000000</td>\n",
       "      <td>1.000000</td>\n",
       "      <td>1.000000</td>\n",
       "      <td>5.000000</td>\n",
       "      <td>12.091944</td>\n",
       "      <td>1.000000</td>\n",
       "    </tr>\n",
       "  </tbody>\n",
       "</table>\n",
       "</div>"
      ],
      "text/plain": [
       "       bat_landing_to_food  seconds_after_rat_arrival        risk      reward  \\\n",
       "count           907.000000                 907.000000  907.000000  907.000000   \n",
       "mean             11.713134                 282.877619    0.495039    0.533627   \n",
       "std              27.644410                 240.974918    0.500251    0.499143   \n",
       "min               0.010238                   0.000000    0.000000    0.000000   \n",
       "25%               1.000000                  89.500000    0.000000    0.000000   \n",
       "50%               4.000000                 206.000000    0.000000    1.000000   \n",
       "75%              11.500000                 446.500000    1.000000    1.000000   \n",
       "max             443.000000                 949.000000    1.000000    1.000000   \n",
       "\n",
       "            month  hours_after_sunset      season  \n",
       "count  907.000000          907.000000  907.000000  \n",
       "mean     3.800441            5.531863    0.833517  \n",
       "std      1.199190            2.414146    0.372719  \n",
       "min      0.000000           -0.261667    0.000000  \n",
       "25%      4.000000            3.779028    1.000000  \n",
       "50%      4.000000            5.622778    1.000000  \n",
       "75%      5.000000            7.402778    1.000000  \n",
       "max      5.000000           12.091944    1.000000  "
      ]
     },
     "execution_count": 3,
     "metadata": {},
     "output_type": "execute_result"
    }
   ],
   "source": [
    "df1.describe() # this will ask python to generate summary statistics "
   ]
  },
  {
   "cell_type": "code",
   "execution_count": null,
   "id": "4f37ddd2-e3e5-4e9a-ad8d-991df2a3bd54",
   "metadata": {},
   "outputs": [
    {
     "data": {
      "text/html": [
       "<div>\n",
       "<style scoped>\n",
       "    .dataframe tbody tr th:only-of-type {\n",
       "        vertical-align: middle;\n",
       "    }\n",
       "\n",
       "    .dataframe tbody tr th {\n",
       "        vertical-align: top;\n",
       "    }\n",
       "\n",
       "    .dataframe thead th {\n",
       "        text-align: right;\n",
       "    }\n",
       "</style>\n",
       "<table border=\"1\" class=\"dataframe\">\n",
       "  <thead>\n",
       "    <tr style=\"text-align: right;\">\n",
       "      <th></th>\n",
       "      <th>month</th>\n",
       "      <th>hours_after_sunset</th>\n",
       "      <th>bat_landing_number</th>\n",
       "      <th>food_availability</th>\n",
       "      <th>rat_minutes</th>\n",
       "      <th>rat_arrival_number</th>\n",
       "    </tr>\n",
       "  </thead>\n",
       "  <tbody>\n",
       "    <tr>\n",
       "      <th>count</th>\n",
       "      <td>2123.000000</td>\n",
       "      <td>2123.000000</td>\n",
       "      <td>2123.000000</td>\n",
       "      <td>2123.000000</td>\n",
       "      <td>2123.000000</td>\n",
       "      <td>2123.000000</td>\n",
       "    </tr>\n",
       "    <tr>\n",
       "      <th>mean</th>\n",
       "      <td>3.083844</td>\n",
       "      <td>5.265426</td>\n",
       "      <td>32.083373</td>\n",
       "      <td>2.445874</td>\n",
       "      <td>1.994442</td>\n",
       "      <td>0.444654</td>\n",
       "    </tr>\n",
       "    <tr>\n",
       "      <th>std</th>\n",
       "      <td>1.642261</td>\n",
       "      <td>4.076188</td>\n",
       "      <td>25.614431</td>\n",
       "      <td>1.218353</td>\n",
       "      <td>6.793397</td>\n",
       "      <td>1.019195</td>\n",
       "    </tr>\n",
       "    <tr>\n",
       "      <th>min</th>\n",
       "      <td>0.000000</td>\n",
       "      <td>-2.000000</td>\n",
       "      <td>0.000000</td>\n",
       "      <td>0.000000</td>\n",
       "      <td>0.000000</td>\n",
       "      <td>0.000000</td>\n",
       "    </tr>\n",
       "    <tr>\n",
       "      <th>25%</th>\n",
       "      <td>2.000000</td>\n",
       "      <td>2.000000</td>\n",
       "      <td>11.000000</td>\n",
       "      <td>1.962206</td>\n",
       "      <td>0.000000</td>\n",
       "      <td>0.000000</td>\n",
       "    </tr>\n",
       "    <tr>\n",
       "      <th>50%</th>\n",
       "      <td>4.000000</td>\n",
       "      <td>5.000000</td>\n",
       "      <td>27.000000</td>\n",
       "      <td>2.951877</td>\n",
       "      <td>0.000000</td>\n",
       "      <td>0.000000</td>\n",
       "    </tr>\n",
       "    <tr>\n",
       "      <th>75%</th>\n",
       "      <td>4.000000</td>\n",
       "      <td>8.500000</td>\n",
       "      <td>48.000000</td>\n",
       "      <td>3.105873</td>\n",
       "      <td>0.158333</td>\n",
       "      <td>1.000000</td>\n",
       "    </tr>\n",
       "    <tr>\n",
       "      <th>max</th>\n",
       "      <td>6.000000</td>\n",
       "      <td>13.500000</td>\n",
       "      <td>178.000000</td>\n",
       "      <td>4.000000</td>\n",
       "      <td>120.000000</td>\n",
       "      <td>17.000000</td>\n",
       "    </tr>\n",
       "  </tbody>\n",
       "</table>\n",
       "</div>"
      ],
      "text/plain": [
       "             month  hours_after_sunset  bat_landing_number  food_availability  \\\n",
       "count  2123.000000         2123.000000         2123.000000        2123.000000   \n",
       "mean      3.083844            5.265426           32.083373           2.445874   \n",
       "std       1.642261            4.076188           25.614431           1.218353   \n",
       "min       0.000000           -2.000000            0.000000           0.000000   \n",
       "25%       2.000000            2.000000           11.000000           1.962206   \n",
       "50%       4.000000            5.000000           27.000000           2.951877   \n",
       "75%       4.000000            8.500000           48.000000           3.105873   \n",
       "max       6.000000           13.500000          178.000000           4.000000   \n",
       "\n",
       "       rat_minutes  rat_arrival_number  \n",
       "count  2123.000000         2123.000000  \n",
       "mean      1.994442            0.444654  \n",
       "std       6.793397            1.019195  \n",
       "min       0.000000            0.000000  \n",
       "25%       0.000000            0.000000  \n",
       "50%       0.000000            0.000000  \n",
       "75%       0.158333            1.000000  \n",
       "max     120.000000           17.000000  "
      ]
     },
     "execution_count": 4,
     "metadata": {},
     "output_type": "execute_result"
    }
   ],
   "source": [
    "df2.describe()"
   ]
  },
  {
   "cell_type": "code",
   "execution_count": null,
   "id": "561b17dc-fc03-401d-b808-998bb6019312",
   "metadata": {},
   "outputs": [
    {
     "data": {
      "text/html": [
       "<div>\n",
       "<style scoped>\n",
       "    .dataframe tbody tr th:only-of-type {\n",
       "        vertical-align: middle;\n",
       "    }\n",
       "\n",
       "    .dataframe tbody tr th {\n",
       "        vertical-align: top;\n",
       "    }\n",
       "\n",
       "    .dataframe thead th {\n",
       "        text-align: right;\n",
       "    }\n",
       "</style>\n",
       "<table border=\"1\" class=\"dataframe\">\n",
       "  <thead>\n",
       "    <tr style=\"text-align: right;\">\n",
       "      <th></th>\n",
       "      <th>start_time</th>\n",
       "      <th>bat_landing_to_food</th>\n",
       "      <th>habit</th>\n",
       "      <th>rat_period_start</th>\n",
       "      <th>rat_period_end</th>\n",
       "      <th>seconds_after_rat_arrival</th>\n",
       "      <th>risk</th>\n",
       "      <th>reward</th>\n",
       "      <th>month</th>\n",
       "      <th>sunset_time</th>\n",
       "      <th>hours_after_sunset</th>\n",
       "      <th>season</th>\n",
       "    </tr>\n",
       "  </thead>\n",
       "  <tbody>\n",
       "    <tr>\n",
       "      <th>0</th>\n",
       "      <td>30/12/2017 18:37</td>\n",
       "      <td>16.000000</td>\n",
       "      <td>rat</td>\n",
       "      <td>30/12/2017 18:35</td>\n",
       "      <td>30/12/2017 18:38</td>\n",
       "      <td>108</td>\n",
       "      <td>1</td>\n",
       "      <td>0</td>\n",
       "      <td>0</td>\n",
       "      <td>30/12/2017 16:45</td>\n",
       "      <td>1.870833</td>\n",
       "      <td>0</td>\n",
       "    </tr>\n",
       "    <tr>\n",
       "      <th>1</th>\n",
       "      <td>30/12/2017 19:51</td>\n",
       "      <td>0.074016</td>\n",
       "      <td>fast</td>\n",
       "      <td>30/12/2017 19:50</td>\n",
       "      <td>30/12/2017 19:55</td>\n",
       "      <td>17</td>\n",
       "      <td>0</td>\n",
       "      <td>1</td>\n",
       "      <td>0</td>\n",
       "      <td>30/12/2017 16:45</td>\n",
       "      <td>3.100833</td>\n",
       "      <td>0</td>\n",
       "    </tr>\n",
       "    <tr>\n",
       "      <th>2</th>\n",
       "      <td>30/12/2017 19:51</td>\n",
       "      <td>4.000000</td>\n",
       "      <td>fast</td>\n",
       "      <td>30/12/2017 19:50</td>\n",
       "      <td>30/12/2017 19:55</td>\n",
       "      <td>41</td>\n",
       "      <td>0</td>\n",
       "      <td>1</td>\n",
       "      <td>0</td>\n",
       "      <td>30/12/2017 16:45</td>\n",
       "      <td>3.107500</td>\n",
       "      <td>0</td>\n",
       "    </tr>\n",
       "    <tr>\n",
       "      <th>3</th>\n",
       "      <td>30/12/2017 19:52</td>\n",
       "      <td>10.000000</td>\n",
       "      <td>rat</td>\n",
       "      <td>30/12/2017 19:50</td>\n",
       "      <td>30/12/2017 19:55</td>\n",
       "      <td>111</td>\n",
       "      <td>1</td>\n",
       "      <td>0</td>\n",
       "      <td>0</td>\n",
       "      <td>30/12/2017 16:45</td>\n",
       "      <td>3.126944</td>\n",
       "      <td>0</td>\n",
       "    </tr>\n",
       "    <tr>\n",
       "      <th>4</th>\n",
       "      <td>30/12/2017 19:54</td>\n",
       "      <td>15.000000</td>\n",
       "      <td>rat</td>\n",
       "      <td>30/12/2017 19:50</td>\n",
       "      <td>30/12/2017 19:55</td>\n",
       "      <td>194</td>\n",
       "      <td>1</td>\n",
       "      <td>0</td>\n",
       "      <td>0</td>\n",
       "      <td>30/12/2017 16:45</td>\n",
       "      <td>3.150000</td>\n",
       "      <td>0</td>\n",
       "    </tr>\n",
       "  </tbody>\n",
       "</table>\n",
       "</div>"
      ],
      "text/plain": [
       "         start_time  bat_landing_to_food habit  rat_period_start  \\\n",
       "0  30/12/2017 18:37            16.000000   rat  30/12/2017 18:35   \n",
       "1  30/12/2017 19:51             0.074016  fast  30/12/2017 19:50   \n",
       "2  30/12/2017 19:51             4.000000  fast  30/12/2017 19:50   \n",
       "3  30/12/2017 19:52            10.000000   rat  30/12/2017 19:50   \n",
       "4  30/12/2017 19:54            15.000000   rat  30/12/2017 19:50   \n",
       "\n",
       "     rat_period_end  seconds_after_rat_arrival  risk  reward  month  \\\n",
       "0  30/12/2017 18:38                        108     1       0      0   \n",
       "1  30/12/2017 19:55                         17     0       1      0   \n",
       "2  30/12/2017 19:55                         41     0       1      0   \n",
       "3  30/12/2017 19:55                        111     1       0      0   \n",
       "4  30/12/2017 19:55                        194     1       0      0   \n",
       "\n",
       "        sunset_time  hours_after_sunset  season  \n",
       "0  30/12/2017 16:45            1.870833       0  \n",
       "1  30/12/2017 16:45            3.100833       0  \n",
       "2  30/12/2017 16:45            3.107500       0  \n",
       "3  30/12/2017 16:45            3.126944       0  \n",
       "4  30/12/2017 16:45            3.150000       0  "
      ]
     },
     "execution_count": 5,
     "metadata": {},
     "output_type": "execute_result"
    }
   ],
   "source": [
    "df1.head()"
   ]
  },
  {
   "cell_type": "code",
   "execution_count": null,
   "id": "d0874882-bcff-4a5d-9b94-60abd9357878",
   "metadata": {},
   "outputs": [
    {
     "data": {
      "text/html": [
       "<div>\n",
       "<style scoped>\n",
       "    .dataframe tbody tr th:only-of-type {\n",
       "        vertical-align: middle;\n",
       "    }\n",
       "\n",
       "    .dataframe tbody tr th {\n",
       "        vertical-align: top;\n",
       "    }\n",
       "\n",
       "    .dataframe thead th {\n",
       "        text-align: right;\n",
       "    }\n",
       "</style>\n",
       "<table border=\"1\" class=\"dataframe\">\n",
       "  <thead>\n",
       "    <tr style=\"text-align: right;\">\n",
       "      <th></th>\n",
       "      <th>time</th>\n",
       "      <th>month</th>\n",
       "      <th>hours_after_sunset</th>\n",
       "      <th>bat_landing_number</th>\n",
       "      <th>food_availability</th>\n",
       "      <th>rat_minutes</th>\n",
       "      <th>rat_arrival_number</th>\n",
       "    </tr>\n",
       "  </thead>\n",
       "  <tbody>\n",
       "    <tr>\n",
       "      <th>0</th>\n",
       "      <td>26/12/2017 16:13</td>\n",
       "      <td>0</td>\n",
       "      <td>-0.5</td>\n",
       "      <td>20</td>\n",
       "      <td>4.000000</td>\n",
       "      <td>0.0</td>\n",
       "      <td>0</td>\n",
       "    </tr>\n",
       "    <tr>\n",
       "      <th>1</th>\n",
       "      <td>26/12/2017 16:43</td>\n",
       "      <td>0</td>\n",
       "      <td>0.0</td>\n",
       "      <td>28</td>\n",
       "      <td>4.000000</td>\n",
       "      <td>0.0</td>\n",
       "      <td>0</td>\n",
       "    </tr>\n",
       "    <tr>\n",
       "      <th>2</th>\n",
       "      <td>26/12/2017 17:13</td>\n",
       "      <td>0</td>\n",
       "      <td>0.5</td>\n",
       "      <td>25</td>\n",
       "      <td>4.000000</td>\n",
       "      <td>0.0</td>\n",
       "      <td>0</td>\n",
       "    </tr>\n",
       "    <tr>\n",
       "      <th>3</th>\n",
       "      <td>26/12/2017 17:43</td>\n",
       "      <td>0</td>\n",
       "      <td>1.0</td>\n",
       "      <td>71</td>\n",
       "      <td>4.000000</td>\n",
       "      <td>0.0</td>\n",
       "      <td>0</td>\n",
       "    </tr>\n",
       "    <tr>\n",
       "      <th>4</th>\n",
       "      <td>26/12/2017 18:13</td>\n",
       "      <td>0</td>\n",
       "      <td>1.5</td>\n",
       "      <td>44</td>\n",
       "      <td>3.753857</td>\n",
       "      <td>0.0</td>\n",
       "      <td>0</td>\n",
       "    </tr>\n",
       "  </tbody>\n",
       "</table>\n",
       "</div>"
      ],
      "text/plain": [
       "               time  month  hours_after_sunset  bat_landing_number  \\\n",
       "0  26/12/2017 16:13      0                -0.5                  20   \n",
       "1  26/12/2017 16:43      0                 0.0                  28   \n",
       "2  26/12/2017 17:13      0                 0.5                  25   \n",
       "3  26/12/2017 17:43      0                 1.0                  71   \n",
       "4  26/12/2017 18:13      0                 1.5                  44   \n",
       "\n",
       "   food_availability  rat_minutes  rat_arrival_number  \n",
       "0           4.000000          0.0                   0  \n",
       "1           4.000000          0.0                   0  \n",
       "2           4.000000          0.0                   0  \n",
       "3           4.000000          0.0                   0  \n",
       "4           3.753857          0.0                   0  "
      ]
     },
     "execution_count": 6,
     "metadata": {},
     "output_type": "execute_result"
    }
   ],
   "source": [
    "df2.head()"
   ]
  },
  {
   "cell_type": "code",
   "execution_count": null,
   "id": "5339af45-3f04-4572-9186-6855e252e15d",
   "metadata": {},
   "outputs": [
    {
     "data": {
      "text/plain": [
       "time                  0\n",
       "month                 0\n",
       "hours_after_sunset    0\n",
       "bat_landing_number    0\n",
       "food_availability     0\n",
       "rat_minutes           0\n",
       "rat_arrival_number    0\n",
       "dtype: int64"
      ]
     },
     "execution_count": 7,
     "metadata": {},
     "output_type": "execute_result"
    }
   ],
   "source": [
    "df1.isnull().sum()\n",
    "df2.isnull().sum()"
   ]
  },
  {
   "cell_type": "markdown",
   "id": "2b6287f1-f1cb-4f45-b292-c1c802ae1345",
   "metadata": {},
   "source": [
    "# cleaning data "
   ]
  },
  {
   "cell_type": "code",
   "execution_count": null,
   "id": "9450a7a5-f028-42f1-8a65-e685a3e25d3c",
   "metadata": {},
   "outputs": [],
   "source": [
    "# For df1 (bat behavior)\n",
    "df1['start_time'] = pd.to_datetime(df1['start_time'], dayfirst=True, errors='coerce')\n",
    "df1['sunset_time'] = pd.to_datetime(df1['sunset_time'], dayfirst=True, errors='coerce')\n",
    "df1['rat_period_start'] = pd.to_datetime(df1['rat_period_start'], dayfirst=True, errors='coerce')\n",
    "df1['rat_period_end'] = pd.to_datetime(df1['rat_period_end'], dayfirst=True, errors='coerce')\n",
    "\n",
    "# For df2 (rat summary)\n",
    "df2['time'] = pd.to_datetime(df2['time'], dayfirst=True, errors='coerce')"
   ]
  },
  {
   "cell_type": "markdown",
   "id": "5e9ed835-3c4d-499b-a4f0-043df0e92014",
   "metadata": {},
   "source": [
    "# converting the start time into proper datetime object for both data sets so, that the python doesnot treat dates as plain text."
   ]
  },
  {
   "cell_type": "markdown",
   "id": "3012ea2b-beaf-49fc-a787-e9d4682d3bc4",
   "metadata": {},
   "source": [
    "# handling missing values \n",
    "removing rows with essential data missing \n",
    "\n",
    "imputing behavioral metrics\n",
    "\n",
    "fills in missing values for how long bats took to approach food using the median value from the dataset\n",
    "\n"
   ]
  },
  {
   "cell_type": "code",
   "execution_count": null,
   "id": "5c07b701-0430-44e1-8b37-fef527e2df36",
   "metadata": {},
   "outputs": [],
   "source": [
    "# Drop rows missing critical fields\n",
    "df1.dropna(subset=['start_time', 'sunset_time', 'risk', 'reward'], inplace=True)\n",
    "\n",
    "# Impute bat_landing_to_food with median\n",
    "df1['bat_landing_to_food'] = df1['bat_landing_to_food'].fillna(df1['bat_landing_to_food'].median())\n",
    "\n",
    "# Fill missing seconds_after_rat_arrival with placeholder\n",
    "df1['seconds_after_rat_arrival'] = df1['seconds_after_rat_arrival'].fillna(-999)"
   ]
  },
  {
   "cell_type": "markdown",
   "id": "6cc36ad9-5659-4d8d-9d76-0413833b581f",
   "metadata": {},
   "source": [
    "# Flagging Rat Presence\n",
    "\n",
    "Creating a new column that says \"1\" if the bat landed after the rat arrived, and \"0\" if it landed before."
   ]
  },
  {
   "cell_type": "code",
   "execution_count": null,
   "id": "e2a1fc13-ebf2-4492-a847-c7909b36bf3b",
   "metadata": {},
   "outputs": [],
   "source": [
    "# Flag rat presence\n",
    "df1['rat_present'] = df1['seconds_after_rat_arrival'].apply(lambda x: 1 if x >= 0 else 0)\n",
    "\n",
    "# Calculate rat activity duration\n",
    "df1['rat_period_duration'] = (df1['rat_period_end'] - df1['rat_period_start']).dt.total_seconds() / 60"
   ]
  },
  {
   "cell_type": "markdown",
   "id": "715d513d-40c1-4d6c-9fe6-52680db7a947",
   "metadata": {},
   "source": [
    "# Standardizing Categorical Data \n",
    "cleaning up the seasons column so all the entries are lowercase \n",
    "risk and reward categories to int type \n"
   ]
  },
  {
   "cell_type": "code",
   "execution_count": null,
   "id": "4cc66134-f8fe-4796-a604-39570e5750da",
   "metadata": {},
   "outputs": [],
   "source": [
    "df1['season'] = df1['season'].astype(str).str.strip().str.lower()\n",
    "df1['risk'] = df1['risk'].astype(int)\n",
    "df1['reward'] = df1['reward'].astype(int)"
   ]
  },
  {
   "cell_type": "code",
   "execution_count": null,
   "id": "83db85bc-4a2c-417f-ba74-527703419e42",
   "metadata": {},
   "outputs": [],
   "source": [
    "df2['hours_after_sunset'] = pd.to_numeric(df2['hours_after_sunset'], errors='coerce')\n",
    "df2['food_availability'] = pd.to_numeric(df2['food_availability'], errors='coerce')\n",
    "df2['rat_minutes'] = pd.to_numeric(df2['rat_minutes'], errors='coerce')\n",
    "df2['rat_arrival_number'] = pd.to_numeric(df2['rat_arrival_number'], errors='coerce')\n",
    "df2['bat_landing_number'] = pd.to_numeric(df2['bat_landing_number'], errors='coerce')"
   ]
  },
  {
   "cell_type": "markdown",
   "id": "5a744a03-f852-4a63-986c-3a5df9b12717",
   "metadata": {},
   "source": [
    "# Final Checks "
   ]
  },
  {
   "cell_type": "code",
   "execution_count": null,
   "id": "2f1a53e8-d804-402e-8d0d-e7f03c90c2e1",
   "metadata": {},
   "outputs": [
    {
     "name": "stdout",
     "output_type": "stream",
     "text": [
      "<class 'pandas.core.frame.DataFrame'>\n",
      "Index: 906 entries, 0 to 906\n",
      "Data columns (total 14 columns):\n",
      " #   Column                     Non-Null Count  Dtype         \n",
      "---  ------                     --------------  -----         \n",
      " 0   start_time                 906 non-null    datetime64[ns]\n",
      " 1   bat_landing_to_food        906 non-null    float64       \n",
      " 2   habit                      865 non-null    object        \n",
      " 3   rat_period_start           906 non-null    datetime64[ns]\n",
      " 4   rat_period_end             906 non-null    datetime64[ns]\n",
      " 5   seconds_after_rat_arrival  906 non-null    int64         \n",
      " 6   risk                       906 non-null    int64         \n",
      " 7   reward                     906 non-null    int64         \n",
      " 8   month                      906 non-null    int64         \n",
      " 9   sunset_time                906 non-null    datetime64[ns]\n",
      " 10  hours_after_sunset         906 non-null    float64       \n",
      " 11  season                     906 non-null    object        \n",
      " 12  rat_present                906 non-null    int64         \n",
      " 13  rat_period_duration        906 non-null    float64       \n",
      "dtypes: datetime64[ns](4), float64(3), int64(5), object(2)\n",
      "memory usage: 106.2+ KB\n",
      "None\n",
      "<class 'pandas.core.frame.DataFrame'>\n",
      "RangeIndex: 2123 entries, 0 to 2122\n",
      "Data columns (total 7 columns):\n",
      " #   Column              Non-Null Count  Dtype         \n",
      "---  ------              --------------  -----         \n",
      " 0   time                2123 non-null   datetime64[ns]\n",
      " 1   month               2123 non-null   int64         \n",
      " 2   hours_after_sunset  2123 non-null   float64       \n",
      " 3   bat_landing_number  2123 non-null   int64         \n",
      " 4   food_availability   2123 non-null   float64       \n",
      " 5   rat_minutes         2123 non-null   float64       \n",
      " 6   rat_arrival_number  2123 non-null   int64         \n",
      "dtypes: datetime64[ns](1), float64(3), int64(3)\n",
      "memory usage: 116.2 KB\n",
      "None\n"
     ]
    }
   ],
   "source": [
    "df1.drop_duplicates(inplace=True)\n",
    "df2.drop_duplicates(inplace=True)\n",
    "\n",
    "print(df1.info())\n",
    "print(df2.info())"
   ]
  },
  {
   "cell_type": "markdown",
   "id": "287f5a82-a259-44ad-a6b1-ef82eec96fc3",
   "metadata": {},
   "source": [
    "# Descriptive Analysis \n",
    "Risk taking behaviour distribution "
   ]
  },
  {
   "cell_type": "code",
   "execution_count": null,
   "id": "8309e999-6ad4-4b53-b38e-c9598041c694",
   "metadata": {},
   "outputs": [
    {
     "data": {
      "image/png": "[encoded data removed]",
      "text/plain": [
       "<Figure size 640x480 with 1 Axes>"
      ]
     },
     "metadata": {},
     "output_type": "display_data"
    }
   ],
   "source": [
    "import seaborn as sns\n",
    "import matplotlib.pyplot as plt\n",
    "\n",
    "sns.countplot(data=df1, x='risk', hue='risk', palette='Set2', legend=False)\n",
    "plt.title('Bat Risk-Taking Behavior')\n",
    "plt.xlabel('Risk (1 = Risk-Taking, 0 = Avoidance)')\n",
    "plt.ylabel('Count')\n",
    "plt.show()"
   ]
  },
  {
   "cell_type": "markdown",
   "id": "8e903d5c-52ec-4ec0-8f0c-6b089e3d22a8",
   "metadata": {},
   "source": [
    "#\n",
    "green bar is taller, meaning more bats avoided risk. where orange bar is shorter, showing fewer bats took risks. This supports the idea that bats are generally cautious, possibly due to the presence of rats or other environmental pressures.\n"
   ]
  },
  {
   "cell_type": "markdown",
   "id": "52b23223-9359-4fcc-83d1-7259c716cdd7",
   "metadata": {},
   "source": [
    "# Vigilance Delay vs Rat Presence \n",
    "Compares how long bats wait before approaching food when rats are present vs absent\n"
   ]
  },
  {
   "cell_type": "code",
   "execution_count": null,
   "id": "8d114cd3-a1d7-4e47-a82d-d13f4c30369b",
   "metadata": {},
   "outputs": [
    {
     "name": "stderr",
     "output_type": "stream",
     "text": [
      "C:\\Users\\taman\\AppData\\Local\\Temp\\ipykernel_10320\\859619460.py:1: FutureWarning: \n",
      "\n",
      "Passing `palette` without assigning `hue` is deprecated and will be removed in v0.14.0. Assign the `x` variable to `hue` and set `legend=False` for the same effect.\n",
      "\n",
      "  sns.boxplot(data=df1, x='rat_present', y='bat_landing_to_food', palette='coolwarm')\n"
     ]
    },
    {
     "data": {
      "image/png": "[encoded data removed]",
      "text/plain": [
       "<Figure size 640x480 with 1 Axes>"
      ]
     },
     "metadata": {},
     "output_type": "display_data"
    }
   ],
   "source": [
    "sns.boxplot(data=df1, x='rat_present', y='bat_landing_to_food', palette='coolwarm')\n",
    "plt.title('Vigilance Delay by Rat Presence')\n",
    "plt.xlabel('Rat Present (1 = Yes, 0 = No)')\n",
    "plt.ylabel('Time to Approach Food (seconds)')\n",
    "plt.show()"
   ]
  },
  {
   "cell_type": "markdown",
   "id": "d90838ff-dba6-4b48-8e6b-9ba9573332ca",
   "metadata": {},
   "source": [
    "# \n",
    "Longer delays suggest increased vigilance, possibly due to perceived predation risk.\n",
    "\n",
    "\n"
   ]
  },
  {
   "cell_type": "markdown",
   "id": "ca935747-9643-435d-9889-2c0aa3288a35",
   "metadata": {},
   "source": [
    "# Reward vs Risk Behavior\n",
    "this will measures how often risk-taking leads to food reward."
   ]
  },
  {
   "cell_type": "code",
   "execution_count": null,
   "id": "50dd6669-ef0f-4819-a764-ea86b1e9c73d",
   "metadata": {},
   "outputs": [
    {
     "name": "stderr",
     "output_type": "stream",
     "text": [
      "C:\\Users\\taman\\AppData\\Local\\Temp\\ipykernel_10320\\174904511.py:1: FutureWarning: \n",
      "\n",
      "The `ci` parameter is deprecated. Use `errorbar=None` for the same effect.\n",
      "\n",
      "  sns.barplot(data=df1, x='risk', y='reward', ci=None, palette='muted')\n",
      "C:\\Users\\taman\\AppData\\Local\\Temp\\ipykernel_10320\\174904511.py:1: FutureWarning: \n",
      "\n",
      "Passing `palette` without assigning `hue` is deprecated and will be removed in v0.14.0. Assign the `x` variable to `hue` and set `legend=False` for the same effect.\n",
      "\n",
      "  sns.barplot(data=df1, x='risk', y='reward', ci=None, palette='muted')\n"
     ]
    },
    {
     "data": {
      "image/png": "[encoded data removed]",
      "text/plain": [
       "<Figure size 640x480 with 1 Axes>"
      ]
     },
     "metadata": {},
     "output_type": "display_data"
    }
   ],
   "source": [
    "sns.barplot(data=df1, x='risk', y='reward', ci=None, palette='muted')\n",
    "plt.title('Reward Rate by Risk Behavior')\n",
    "plt.xlabel('Risk Behavior')\n",
    "plt.ylabel('Reward Frequency')\n",
    "plt.show()"
   ]
  },
  {
   "cell_type": "markdown",
   "id": "c1fd6d21-d3d1-4e56-9ee0-af77c16f8ae9",
   "metadata": {},
   "source": [
    "If risk-takers are more successful, it suggests a trade-off between caution and reward.\n",
    "\n",
    "\n"
   ]
  },
  {
   "cell_type": "markdown",
   "id": "473ecc91-bebd-4de8-a911-1e6c45a1216e",
   "metadata": {},
   "source": [
    "# Inferential Analysis\n",
    "\n",
    "Hypothesis A:  Bats take longer to approach food when rats are present."
   ]
  },
  {
   "cell_type": "code",
   "execution_count": null,
   "id": "e55441c1-d6c1-46e5-82e0-59653344e8a6",
   "metadata": {},
   "outputs": [
    {
     "name": "stdout",
     "output_type": "stream",
     "text": [
      "Group with rat present: 906\n",
      "Group with no rat present: 0\n"
     ]
    }
   ],
   "source": [
    "print(\"Group with rat present:\", df1[df1['rat_present'] == 1]['bat_landing_to_food'].dropna().shape[0])\n",
    "print(\"Group with no rat present:\", df1[df1['rat_present'] == 0]['bat_landing_to_food'].dropna().shape[0])\n"
   ]
  },
  {
   "cell_type": "markdown",
   "id": "ca6cff17-094a-4704-9de2-d0518adc02cf",
   "metadata": {},
   "source": [
    "# Explore Rat Intensity Effects\n",
    "You can analyze how bat behavior changes with increasing rat activity\n"
   ]
  },
  {
   "cell_type": "code",
   "execution_count": null,
   "id": "77d2197b-8d7c-4a50-b7a1-36f718e7a890",
   "metadata": {},
   "outputs": [
    {
     "data": {
      "text/plain": [
       "<Axes: xlabel='seconds_after_rat_arrival', ylabel='bat_landing_to_food'>"
      ]
     },
     "execution_count": 24,
     "metadata": {},
     "output_type": "execute_result"
    },
    {
     "data": {
      "image/png": "[encoded data removed]",
      "text/plain": [
       "<Figure size 640x480 with 1 Axes>"
      ]
     },
     "metadata": {},
     "output_type": "display_data"
    }
   ],
   "source": [
    "import seaborn as sns\n",
    "sns.scatterplot(data=df1, x='seconds_after_rat_arrival', y='bat_landing_to_food')"
   ]
  },
  {
   "cell_type": "markdown",
   "id": "0d7a371f-5c44-48d5-91e8-4c33916e3c19",
   "metadata": {},
   "source": [
    "we can say that bats does take little time to approach food when rats are present."
   ]
  },
  {
   "cell_type": "code",
   "execution_count": null,
   "id": "f468212f-8e13-4d47-a296-56695d93ae45",
   "metadata": {},
   "outputs": [
    {
     "data": {
      "text/plain": [
       "<Axes: xlabel='rat_arrival_number', ylabel='bat_landing_number'>"
      ]
     },
     "execution_count": 25,
     "metadata": {},
     "output_type": "execute_result"
    },
    {
     "data": {
      "image/png": "[encoded data removed]",
      "text/plain": [
       "<Figure size 640x480 with 1 Axes>"
      ]
     },
     "metadata": {},
     "output_type": "display_data"
    }
   ],
   "source": [
    "sns.scatterplot(data=df2, x='rat_arrival_number', y='bat_landing_number', hue='food_availability')"
   ]
  },
  {
   "cell_type": "markdown",
   "id": "59ee2700-9f14-4216-b7fe-606e149df391",
   "metadata": {},
   "source": [
    "this shows how bat landings vary with rat arrivals and food availability."
   ]
  },
  {
   "cell_type": "code",
   "execution_count": null,
   "id": "2aa3a06d-8bce-4519-8c12-1744f31a593f",
   "metadata": {},
   "outputs": [
    {
     "data": {
      "text/plain": [
       "<Axes: xlabel='risk', ylabel='seconds_after_rat_arrival'>"
      ]
     },
     "execution_count": 26,
     "metadata": {},
     "output_type": "execute_result"
    },
    {
     "data": {
      "image/png": "[encoded data removed]",
      "text/plain": [
       "<Figure size 640x480 with 1 Axes>"
      ]
     },
     "metadata": {},
     "output_type": "display_data"
    }
   ],
   "source": [
    "sns.boxplot(data=df1, x='risk', y='seconds_after_rat_arrival')"
   ]
  },
  {
   "cell_type": "markdown",
   "id": "2e552bcd-4f88-4166-b93c-a3e743be574b",
   "metadata": {},
   "source": [
    "Risk-taking bats tend to land later after rats arrive compared to risk-avoiding bats. This suggests they may be waiting longer to assess safety before approaching food — a sign of strategic behavior, not recklessness.\n"
   ]
  },
  {
   "cell_type": "markdown",
   "id": "ad041c66-ed41-4f34-ae4c-d01770058bc2",
   "metadata": {},
   "source": [
    "# Hypothesis B: Bats are less likely to take risks when rats are present.\n"
   ]
  },
  {
   "cell_type": "code",
   "execution_count": null,
   "id": "6751da1a-cf8c-459e-85ac-5022118cf89f",
   "metadata": {},
   "outputs": [
    {
     "name": "stdout",
     "output_type": "stream",
     "text": [
      "Chi-square: 0.000, P-value: 1.0000\n"
     ]
    }
   ],
   "source": [
    "import scipy.stats as stats\n",
    "import pandas as pd\n",
    "\n",
    "contingency = pd.crosstab(df1['rat_present'], df1['risk'])\n",
    "chi2, p, dof, expected = stats.chi2_contingency(contingency)\n",
    "print(f\"Chi-square: {chi2:.3f}, P-value: {p:.4f}\")"
   ]
  },
  {
   "cell_type": "markdown",
   "id": "89f2ab32-2fb1-478f-878a-c6222327333c",
   "metadata": {},
   "source": [
    "you can see that the p-value is more that 0.05 so,\n",
    "\n",
    "There’s no statistical association between rat presence and bat risk-taking in your dataset. This means bats are not significantly more or less likely to take risks based on whether rats are present.\n"
   ]
  },
  {
   "cell_type": "markdown",
   "id": "379511bc-c124-42aa-ab96-d2c4a23bb382",
   "metadata": {},
   "source": [
    "# summary \n",
    "This suggests that while bats may show vigilance (as seen in delayed food approach), their decision to take risks might be influenced by other factors — like food availability, individual temperament, or timing — rather than rat presence alone.\n"
   ]
  },
  {
   "cell_type": "code",
   "execution_count": null,
   "id": "0e185d05-2132-43ea-9f3d-d0a1fa65fe57",
   "metadata": {},
   "outputs": [],
   "source": []
  }
 ],
 "metadata": {
  "kernelspec": {
   "display_name": "base",
   "language": "python",
   "name": "python3"
  },
  "language_info": {
   "codemirror_mode": {
    "name": "ipython",
    "version": 3
   },
   "file_extension": ".py",
   "mimetype": "text/x-python",
   "name": "python",
   "nbconvert_exporter": "python",
   "pygments_lexer": "ipython3",
   "version": "3.11.3"
  }
 },
 "nbformat": 4,
 "nbformat_minor": 5
}
